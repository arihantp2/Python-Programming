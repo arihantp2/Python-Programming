{
 "cells": [
  {
   "cell_type": "markdown",
   "metadata": {},
   "source": [
    "### Write a python script to add two numbers (integers) taken from the user through keyboard."
   ]
  },
  {
   "cell_type": "code",
   "execution_count": 1,
   "metadata": {},
   "outputs": [
    {
     "name": "stdout",
     "output_type": "stream",
     "text": [
      "Enter the first Number: 10\n",
      "Enter the second number: 20\n",
      "Sum of the two Numbers is  30\n"
     ]
    }
   ],
   "source": [
    "x=input(\"Enter the first Number: \")\n",
    "y=input(\"Enter the second number: \")\n",
    "z=int(x)+int(y)\n",
    "print(\"Sum of the two Numbers is \", z)"
   ]
  },
  {
   "cell_type": "markdown",
   "metadata": {},
   "source": [
    "### Write a python script to calculate area of circle , radius is taken from the user."
   ]
  },
  {
   "cell_type": "code",
   "execution_count": 2,
   "metadata": {},
   "outputs": [
    {
     "name": "stdout",
     "output_type": "stream",
     "text": [
      "Enter the value of Radius: 25\n",
      "Area of Circle is  1962.5 m^2\n"
     ]
    }
   ],
   "source": [
    "r=input('Enter the value of Radius: ') # Radius in meters\n",
    "pi=3.14\n",
    "A=pi*int(r)**2 #Formula to calculate area of circle in m^2\n",
    "print('Area of Circle is ',A,'m^2')"
   ]
  },
  {
   "cell_type": "code",
   "execution_count": 3,
   "metadata": {},
   "outputs": [
    {
     "name": "stdout",
     "output_type": "stream",
     "text": [
      "Enter the value of Radius: 10\n",
      "Area of Circle is  314.1592653589793 m^2\n"
     ]
    }
   ],
   "source": [
    "r=input('Enter the value of Radius: ') # Radius in meters\n",
    "R=int(r)\n",
    "import math as m\n",
    "A=m.pi*R**2 #Formula to calculate area of circle in m^2\n",
    "print('Area of Circle is ',A,'m^2')"
   ]
  },
  {
   "cell_type": "code",
   "execution_count": 4,
   "metadata": {},
   "outputs": [
    {
     "name": "stdout",
     "output_type": "stream",
     "text": [
      "Enter the value of Radius: 7\n",
      "Area of Circle is  153.93804002589985 m^2\n"
     ]
    }
   ],
   "source": [
    "r=input('Enter the value of Radius: ') # Radius in meters\n",
    "\n",
    "import math as m\n",
    "\n",
    "A=m.pi*int(r)**2 #Formula to calculate area of circle in m^2\n",
    "\n",
    "print('Area of Circle is ',A,'m^2')"
   ]
  },
  {
   "cell_type": "markdown",
   "metadata": {},
   "source": [
    "###  Write a python script to calculate Simple Interest , data required should be taken from the user."
   ]
  },
  {
   "cell_type": "code",
   "execution_count": 5,
   "metadata": {},
   "outputs": [
    {
     "name": "stdout",
     "output_type": "stream",
     "text": [
      "Enter principal amount: 1000\n",
      "Enter rate of interest: 3.5\n",
      "Enter time: 2\n",
      "Simple interest is  70.0\n"
     ]
    }
   ],
   "source": [
    "p=input('Enter principal amount: ')\n",
    "\n",
    "r=input('Enter rate of interest: ')\n",
    "\n",
    "t=input('Enter time: ')\n",
    "\n",
    "si=int(p)*float(r)*int(t)/100\n",
    "\n",
    "print(\"Simple interest is \",si)"
   ]
  },
  {
   "cell_type": "markdown",
   "metadata": {},
   "source": [
    "### Write a python script to calculate  square of a given number ( Number is taken from the user )"
   ]
  },
  {
   "cell_type": "code",
   "execution_count": 6,
   "metadata": {},
   "outputs": [
    {
     "name": "stdout",
     "output_type": "stream",
     "text": [
      "Give the number to Calculate Square: 27\n",
      "Square of a given Number is : 729\n"
     ]
    }
   ],
   "source": [
    "a=input(\"Give the number to Calculate Square: \")\n",
    "b=int(a)\n",
    "s=b**2\n",
    "print(\"Square of a given Number is :\",s)"
   ]
  },
  {
   "cell_type": "markdown",
   "metadata": {},
   "source": [
    "### Write a python script to calculate area of Triangle , input is taken from the user."
   ]
  },
  {
   "cell_type": "code",
   "execution_count": 7,
   "metadata": {},
   "outputs": [
    {
     "name": "stdout",
     "output_type": "stream",
     "text": [
      "Enter the value of base : 10\n",
      "Enter the value of height : 17\n",
      "Area of a Triangle is 85.0\n"
     ]
    }
   ],
   "source": [
    "b=input('Enter the value of base : ')\n",
    "h=input('Enter the value of height : ')\n",
    "a=int(b)*int(h)/2\n",
    "print('Area of a Triangle is' ,a)"
   ]
  },
  {
   "cell_type": "markdown",
   "metadata": {},
   "source": [
    "### Write a python script to calculate Volume of cuboid , dimensions (float values) is taken from the user."
   ]
  },
  {
   "cell_type": "code",
   "execution_count": 8,
   "metadata": {},
   "outputs": [
    {
     "name": "stdout",
     "output_type": "stream",
     "text": [
      "Enter the value of length : 3.5\n",
      "Enter the value of base : 9.5\n",
      "Enter the value of height : 13.84\n",
      "Volume of a Cuboid is 460.18\n"
     ]
    }
   ],
   "source": [
    "l=input('Enter the value of length : ')\n",
    "b=input('Enter the value of base : ')\n",
    "h=input('Enter the value of height : ')\n",
    "v=float(l)*float(b)*float(h)\n",
    "print('Volume of a Cuboid is' ,v)"
   ]
  },
  {
   "cell_type": "code",
   "execution_count": null,
   "metadata": {},
   "outputs": [],
   "source": []
  }
 ],
 "metadata": {
  "kernelspec": {
   "display_name": "Python 3",
   "language": "python",
   "name": "python3"
  },
  "language_info": {
   "codemirror_mode": {
    "name": "ipython",
    "version": 3
   },
   "file_extension": ".py",
   "mimetype": "text/x-python",
   "name": "python",
   "nbconvert_exporter": "python",
   "pygments_lexer": "ipython3",
   "version": "3.7.6"
  }
 },
 "nbformat": 4,
 "nbformat_minor": 4
}
