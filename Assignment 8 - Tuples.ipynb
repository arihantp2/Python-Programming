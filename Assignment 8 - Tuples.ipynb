{
 "cells": [
  {
   "cell_type": "markdown",
   "metadata": {},
   "source": [
    "# Topics: tuple "
   ]
  },
  {
   "cell_type": "markdown",
   "metadata": {},
   "source": [
    "### 1. Write a python script to calculate average of tuple values. Assuming values are of int type only. "
   ]
  },
  {
   "cell_type": "code",
   "execution_count": 6,
   "metadata": {},
   "outputs": [
    {
     "name": "stdout",
     "output_type": "stream",
     "text": [
      "25.0\n"
     ]
    }
   ],
   "source": [
    "t=10,20,30,40\n",
    "Sum_of_Elements = sum(t)\n",
    "n=len(t)\n",
    "avg=Sum_of_Elements/n\n",
    "print(avg)"
   ]
  },
  {
   "cell_type": "markdown",
   "metadata": {},
   "source": [
    "### 2. Write a python script to sort a tuple."
   ]
  },
  {
   "cell_type": "code",
   "execution_count": 10,
   "metadata": {},
   "outputs": [
    {
     "name": "stdout",
     "output_type": "stream",
     "text": [
      "<class 'tuple'>\n",
      "[1, 2, 3, 4, 5]\n"
     ]
    },
    {
     "data": {
      "text/plain": [
       "list"
      ]
     },
     "execution_count": 10,
     "metadata": {},
     "output_type": "execute_result"
    }
   ],
   "source": [
    "t=(1,3,4,2,5)\n",
    "print(type(t))\n",
    "\n",
    "s=sorted(t)\n",
    "print(s)\n",
    "type(s)"
   ]
  },
  {
   "cell_type": "markdown",
   "metadata": {},
   "source": [
    "### 3. Write a python script to merge two sorted tuples. "
   ]
  },
  {
   "cell_type": "code",
   "execution_count": 12,
   "metadata": {},
   "outputs": [
    {
     "data": {
      "text/plain": [
       "[10, 20, 30, 40, 50, 1, 2, 3, 4, 5]"
      ]
     },
     "execution_count": 12,
     "metadata": {},
     "output_type": "execute_result"
    }
   ],
   "source": [
    "a=(10,40,20,50,30)\n",
    "b=(1,4,2,5,3)\n",
    "c=(sorted(a)+sorted(b))\n",
    "c"
   ]
  },
  {
   "cell_type": "markdown",
   "metadata": {},
   "source": [
    "### 4. Write a python script to reverse a tuple."
   ]
  },
  {
   "cell_type": "code",
   "execution_count": 15,
   "metadata": {},
   "outputs": [
    {
     "data": {
      "text/plain": [
       "(100, 90, 80, 70, 60, 50, 40, 30, 20, 10)"
      ]
     },
     "execution_count": 15,
     "metadata": {},
     "output_type": "execute_result"
    }
   ],
   "source": [
    "t=(10,20,30,40,50,60,70,80,90,100)\n",
    "r=t[::-1]\n",
    "r"
   ]
  },
  {
   "cell_type": "code",
   "execution_count": 17,
   "metadata": {},
   "outputs": [
    {
     "data": {
      "text/plain": [
       "'.xelpmoc naht retteb si elpmiS'"
      ]
     },
     "execution_count": 17,
     "metadata": {},
     "output_type": "execute_result"
    }
   ],
   "source": [
    "t=(\"Simple is better than complex.\")\n",
    "r=t[::-1]\n",
    "r"
   ]
  },
  {
   "cell_type": "markdown",
   "metadata": {},
   "source": [
    "### 5. Write a python script to count elements in the tuple."
   ]
  },
  {
   "cell_type": "code",
   "execution_count": 18,
   "metadata": {},
   "outputs": [
    {
     "data": {
      "text/plain": [
       "10"
      ]
     },
     "execution_count": 18,
     "metadata": {},
     "output_type": "execute_result"
    }
   ],
   "source": [
    "t=(10,20,30,40,50,60,70,80,90,100)\n",
    "len(t)"
   ]
  },
  {
   "cell_type": "markdown",
   "metadata": {},
   "source": [
    "### 6. Write a python script to calculate sum of the elements of the tuple.Tuple input is taken from keyboard (all values are of int type)"
   ]
  },
  {
   "cell_type": "code",
   "execution_count": 30,
   "metadata": {},
   "outputs": [
    {
     "name": "stdout",
     "output_type": "stream",
     "text": [
      "Enter a Tuple to calculate Sum : 10,20,30,40\n",
      "(10, 20, 30, 40)\n",
      "<class 'tuple'>\n",
      "100\n"
     ]
    }
   ],
   "source": [
    "t=eval(input(\"Enter a Tuple to calculate Sum : \"))\n",
    "print(t)\n",
    "print(type(t))\n",
    "print(sum(t))"
   ]
  },
  {
   "cell_type": "markdown",
   "metadata": {},
   "source": [
    "### 7. Write a python script to create tuples with homogeneous elements from a tuple containing heterogeneous elements "
   ]
  },
  {
   "cell_type": "code",
   "execution_count": 50,
   "metadata": {},
   "outputs": [
    {
     "name": "stdout",
     "output_type": "stream",
     "text": [
      "(30, 26)\n",
      "(4.5, 5.6)\n",
      "('abc',)\n",
      "((3+4j), (2-1j))\n",
      "(True,)\n"
     ]
    }
   ],
   "source": [
    "t=(30,4.5,26,3+4j,'abc',True,5.6,2-1j)\n",
    "t1,t2,t3,t4,t5=[],[],[],[],[]\n",
    "for e in t:\n",
    "    if type(e) == int:\n",
    "        t1.append(e)\n",
    "    elif type(e)==float:\n",
    "        t2.append(e)\n",
    "    elif type(e)==str:\n",
    "        t3.append(e)\n",
    "    elif type(e)==complex:\n",
    "        t4.append(e)\n",
    "    elif type(e)==bool:\n",
    "        t5.append(e)\n",
    "        \n",
    "t1=tuple(t1)\n",
    "t2=tuple(t2)\n",
    "t3=tuple(t3)\n",
    "t4=tuple(t4)\n",
    "t5=tuple(t5)\n",
    "\n",
    "print(t1,t2,t3,t4,t5,sep='\\n')"
   ]
  },
  {
   "cell_type": "markdown",
   "metadata": {},
   "source": [
    "### 8. Write a python script to compare two tuples, whether they contain the same elements in any order or not."
   ]
  },
  {
   "cell_type": "code",
   "execution_count": 41,
   "metadata": {},
   "outputs": [
    {
     "name": "stdout",
     "output_type": "stream",
     "text": [
      "Enter First Tuple: 1,2,3\n",
      "Enter Second Tuple: 1,3,2\n",
      "Tuples contain same element in any order\n",
      "Tuples contain same element in any order\n",
      "Tuples contain same element in any order\n"
     ]
    }
   ],
   "source": [
    "t1=eval(input(\"Enter First Tuple: \"))\n",
    "t2=eval(input(\"Enter Second Tuple: \"))\n",
    "\n",
    "for x in t1:\n",
    "    for y in t2:\n",
    "        if x==y:\n",
    "            print(\"Tuples contain same element in any order\")\n",
    "            break\n",
    "    else:\n",
    "        print(\"Tuples does not contain same element in any order\")\n",
    "        break\n",
    "    "
   ]
  },
  {
   "cell_type": "markdown",
   "metadata": {},
   "source": [
    "### 9. Write a python script to compare two tuples, whether they contain the same elements in same order or not."
   ]
  },
  {
   "cell_type": "code",
   "execution_count": 44,
   "metadata": {},
   "outputs": [
    {
     "name": "stdout",
     "output_type": "stream",
     "text": [
      "Enter First Tuple: 1,2,3\n",
      "Enter Second Tuple: 2,3,1\n",
      "Tuples does not contain same element in same order\n"
     ]
    }
   ],
   "source": [
    "t1=eval(input(\"Enter First Tuple: \"))\n",
    "t2=eval(input(\"Enter Second Tuple: \"))\n",
    "\n",
    "if t1==t2:\n",
    "    print(\"Tuples contain same element in same order\")\n",
    "            \n",
    "else:\n",
    "    print(\"Tuples does not contain same element in same order\")\n",
    "            "
   ]
  },
  {
   "cell_type": "markdown",
   "metadata": {},
   "source": [
    "### 10. Write a python script to find greatest number from a tuple of int values. \n"
   ]
  },
  {
   "cell_type": "code",
   "execution_count": 46,
   "metadata": {},
   "outputs": [
    {
     "name": "stdout",
     "output_type": "stream",
     "text": [
      "Enter Tuple: 1,10,7,5,4,3,11,6,2\n",
      "greatest Number in the tuple is 11\n"
     ]
    }
   ],
   "source": [
    "t=eval(input(\"Enter Tuple: \"))\n",
    "print(\"greatest Number in the tuple is\",max(t))"
   ]
  },
  {
   "cell_type": "code",
   "execution_count": 52,
   "metadata": {},
   "outputs": [
    {
     "name": "stdout",
     "output_type": "stream",
     "text": [
      "10,20,40,30\n",
      "Greatest number in the tuple 40\n"
     ]
    }
   ],
   "source": [
    "t=tuple([int(e) for e in input().split(',')])\n",
    "print(\"Greatest number in the tuple\",max(t))"
   ]
  },
  {
   "cell_type": "markdown",
   "metadata": {},
   "source": [
    "### 11. Write a python script to check whether a tuple is a subset of another tuple or not "
   ]
  },
  {
   "cell_type": "code",
   "execution_count": 63,
   "metadata": {},
   "outputs": [
    {
     "name": "stdout",
     "output_type": "stream",
     "text": [
      "False\n",
      "True\n"
     ]
    }
   ],
   "source": [
    "a=(1,2,3,4,5,6)\n",
    "b=(2,3,4)\n",
    "x=set(a).issubset(b)\n",
    "print(x)\n",
    "y=set(b).issubset(a)\n",
    "print(y)\n"
   ]
  },
  {
   "cell_type": "code",
   "execution_count": 64,
   "metadata": {},
   "outputs": [
    {
     "name": "stdout",
     "output_type": "stream",
     "text": [
      "Enter tuple t1:1,2,3,4,5,6\n",
      "Enter tuple t2:2,3,4\n",
      "t1 is not the subset of t2\n"
     ]
    }
   ],
   "source": [
    "t1=eval(input(\"Enter tuple t1:\"))\n",
    "t2=eval(input(\"Enter tuple t2:\"))\n",
    "for x in t1:\n",
    "    for y in t2:\n",
    "        if x==y:\n",
    "            break\n",
    "    else:\n",
    "        print(\"t1 is not the subset of t2\")\n",
    "        break\n",
    "else:\n",
    "    print(\"t1 is a subset of t2 \")"
   ]
  },
  {
   "cell_type": "markdown",
   "metadata": {},
   "source": [
    "### 12. Write a python script to count the frequency of elements of a tuple "
   ]
  },
  {
   "cell_type": "code",
   "execution_count": 61,
   "metadata": {},
   "outputs": [
    {
     "name": "stdout",
     "output_type": "stream",
     "text": [
      "*   \n",
      "**  \n",
      "*** \n",
      "****\n"
     ]
    }
   ],
   "source": [
    "for i in range(1,5):\n",
    "    for j in range(1,5):\n",
    "        if j<=i:\n",
    "            print(\"*\",end='')\n",
    "        else:\n",
    "            print(\" \",end='')\n",
    "    print()"
   ]
  },
  {
   "cell_type": "code",
   "execution_count": null,
   "metadata": {},
   "outputs": [],
   "source": []
  }
 ],
 "metadata": {
  "kernelspec": {
   "display_name": "Python 3",
   "language": "python",
   "name": "python3"
  },
  "language_info": {
   "codemirror_mode": {
    "name": "ipython",
    "version": 3
   },
   "file_extension": ".py",
   "mimetype": "text/x-python",
   "name": "python",
   "nbconvert_exporter": "python",
   "pygments_lexer": "ipython3",
   "version": "3.7.6"
  }
 },
 "nbformat": 4,
 "nbformat_minor": 4
}
