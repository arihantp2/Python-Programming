{
 "cells": [
  {
   "cell_type": "markdown",
   "metadata": {},
   "source": [
    "# Topic : List"
   ]
  },
  {
   "cell_type": "markdown",
   "metadata": {},
   "source": [
    "### 1. Write a python script to sort a list given by user"
   ]
  },
  {
   "cell_type": "code",
   "execution_count": 7,
   "metadata": {},
   "outputs": [
    {
     "name": "stdout",
     "output_type": "stream",
     "text": [
      "Enter numbers seperated by comma: 1,7,6,4,3,5,2,8,9\n"
     ]
    },
    {
     "data": {
      "text/plain": [
       "[1, 2, 3, 4, 5, 6, 7, 8, 9]"
      ]
     },
     "execution_count": 7,
     "metadata": {},
     "output_type": "execute_result"
    }
   ],
   "source": [
    "a=[int(e) for e in (input(\"Enter numbers seperated by comma: \")).split(',')]\n",
    "a.sort()\n",
    "a"
   ]
  },
  {
   "cell_type": "code",
   "execution_count": 8,
   "metadata": {},
   "outputs": [
    {
     "name": "stdout",
     "output_type": "stream",
     "text": [
      "Enter numbers seperated by comma: 1,7,6,4,3,5,2,8,9\n",
      "[1, 7, 6, 4, 3, 5, 2, 8, 9]\n",
      "[1, 7, 6, 4, 3, 5, 2, 8, 9]\n"
     ]
    }
   ],
   "source": [
    "l=[int(e) for e in (input(\"Enter numbers seperated by comma: \")).split(',')]\n",
    "print(l)\n",
    "sorted(l)\n",
    "print(l)"
   ]
  },
  {
   "cell_type": "code",
   "execution_count": 10,
   "metadata": {},
   "outputs": [
    {
     "name": "stdout",
     "output_type": "stream",
     "text": [
      "Enter numbers seperated by comma: 1,7,6,4,3,5,2,8,9\n",
      "[1, 7, 6, 4, 3, 5, 2, 8, 9]\n",
      "[1, 2, 3, 4, 5, 6, 7, 8, 9]\n"
     ]
    }
   ],
   "source": [
    "l=[int(e) for e in (input(\"Enter numbers seperated by comma: \")).split(',')]\n",
    "print(l)\n",
    "m=sorted(l)\n",
    "print(m)"
   ]
  },
  {
   "cell_type": "markdown",
   "metadata": {},
   "source": [
    "### 2. Write a python script to find greatest number in the list of integers given by user."
   ]
  },
  {
   "cell_type": "code",
   "execution_count": 11,
   "metadata": {},
   "outputs": [
    {
     "name": "stdout",
     "output_type": "stream",
     "text": [
      "Enter numbers seperated by comma: 1,7,6,4,3,5,2,8,9\n",
      "9\n"
     ]
    }
   ],
   "source": [
    "a=[int(e) for e in (input(\"Enter numbers seperated by comma: \")).split(',')]\n",
    "a.sort()\n",
    "print(a[-1])"
   ]
  },
  {
   "cell_type": "code",
   "execution_count": 12,
   "metadata": {},
   "outputs": [
    {
     "name": "stdout",
     "output_type": "stream",
     "text": [
      "Enter numbers seperated by comma: 1,7,6,4,3,5,2,8,9\n"
     ]
    },
    {
     "data": {
      "text/plain": [
       "9"
      ]
     },
     "execution_count": 12,
     "metadata": {},
     "output_type": "execute_result"
    }
   ],
   "source": [
    "a=[int(e) for e in (input(\"Enter numbers seperated by comma: \")).split(',')]\n",
    "max(a)"
   ]
  },
  {
   "cell_type": "markdown",
   "metadata": {},
   "source": [
    "###  3. Write a python script to calculate sum of all the integers of the list given by user"
   ]
  },
  {
   "cell_type": "code",
   "execution_count": 13,
   "metadata": {},
   "outputs": [
    {
     "name": "stdout",
     "output_type": "stream",
     "text": [
      "Enter numbers seperated by comma: 1,7,6,4,3,5,2,8,9\n"
     ]
    },
    {
     "data": {
      "text/plain": [
       "45"
      ]
     },
     "execution_count": 13,
     "metadata": {},
     "output_type": "execute_result"
    }
   ],
   "source": [
    "a=[int(e) for e in (input(\"Enter numbers seperated by comma: \")).split(',')]\n",
    "sum(a)"
   ]
  },
  {
   "cell_type": "markdown",
   "metadata": {},
   "source": [
    "### 4. Write a python script to create a list of first N prime numbers. Value of N is given by user."
   ]
  },
  {
   "cell_type": "code",
   "execution_count": 17,
   "metadata": {},
   "outputs": [
    {
     "name": "stdout",
     "output_type": "stream",
     "text": [
      "How many prime numbers you want to generate? 100\n",
      "[2, 3, 5, 7, 11, 13, 17, 19, 23, 29, 31, 37, 41, 43, 47, 53, 59, 61, 67, 71, 73, 79, 83, 89, 97, 101, 103, 107, 109, 113, 127, 131, 137, 139, 149, 151, 157, 163, 167, 173, 179, 181, 191, 193, 197, 199, 211, 223, 227, 229, 233, 239, 241, 251, 257, 263, 269, 271, 277, 281, 283, 293, 307, 311, 313, 317, 331, 337, 347, 349, 353, 359, 367, 373, 379, 383, 389, 397, 401, 409, 419, 421, 431, 433, 439, 443, 449, 457, 461, 463, 467, 479, 487, 491, 499, 503, 509, 521, 523, 541]\n"
     ]
    }
   ],
   "source": [
    "def nextPrime(num):\n",
    "    while True:\n",
    "        num+=1\n",
    "        for i in range(2,num):\n",
    "            if num%i==0:\n",
    "                break\n",
    "        else :\n",
    "            return num\n",
    "        \n",
    "def primeProducer(N): #generator\n",
    "    num,count=1,1\n",
    "    while count<=N:\n",
    "        num=nextPrime(num)\n",
    "        yield num\n",
    "        count +=1\n",
    "        \n",
    "N=int(input(\"How many prime numbers you want to generate? \"))\n",
    "l=[x for x in primeProducer(N)]\n",
    "print(l)\n",
    "    "
   ]
  },
  {
   "cell_type": "code",
   "execution_count": 19,
   "metadata": {},
   "outputs": [
    {
     "data": {
      "text/plain": [
       "list"
      ]
     },
     "execution_count": 19,
     "metadata": {},
     "output_type": "execute_result"
    }
   ],
   "source": [
    "type(l)"
   ]
  },
  {
   "cell_type": "markdown",
   "metadata": {},
   "source": [
    "###  5. Write a python script to create a list of squares of first N natural numbers. Use for loop to fill list with elements. Value of N is taken from user."
   ]
  },
  {
   "cell_type": "code",
   "execution_count": 28,
   "metadata": {},
   "outputs": [
    {
     "name": "stdout",
     "output_type": "stream",
     "text": [
      "enter a number: 10\n",
      "0\n",
      "1\n",
      "4\n",
      "9\n",
      "16\n",
      "25\n",
      "36\n",
      "49\n",
      "64\n",
      "81\n",
      "100\n"
     ]
    }
   ],
   "source": [
    "n=int(input(\"enter a number: \"))\n",
    "\n",
    "for i in range(n+1):\n",
    "        s=i**2\n",
    "        print(s)"
   ]
  },
  {
   "cell_type": "markdown",
   "metadata": {},
   "source": [
    "### 6. Write a python script to print indices of all occurrence of a given element in a given list"
   ]
  },
  {
   "cell_type": "code",
   "execution_count": 30,
   "metadata": {},
   "outputs": [
    {
     "name": "stdout",
     "output_type": "stream",
     "text": [
      "Enter list elements 1,2,4,5,1,3,1,2,1\n",
      "Enter element value 1\n",
      "0 4 6 8 "
     ]
    }
   ],
   "source": [
    "a=[eval(x) for x in input(\"Enter list elements \").split(',')]\n",
    "element=eval(input(\"Enter element value \"))\n",
    "index=0\n",
    "while index<len(a):\n",
    "    if a[index]==element:\n",
    "        print(index,end=' ')\n",
    "    index+=1"
   ]
  },
  {
   "cell_type": "markdown",
   "metadata": {},
   "source": [
    "### 7. Write a python script to print distinct list elements along with their frequency of occurrence in the list"
   ]
  },
  {
   "cell_type": "code",
   "execution_count": 33,
   "metadata": {},
   "outputs": [
    {
     "name": "stdout",
     "output_type": "stream",
     "text": [
      "Enter elements by comma separated: 1,2,3,1,5,6,2,3,3,5,4\n",
      "Frequency of elements in the list : Counter({3: 3, 1: 2, 2: 2, 5: 2, 6: 1, 4: 1})\n"
     ]
    }
   ],
   "source": [
    "import collections\n",
    "F = [eval(x) for x in input(\"Enter elements by comma separated: \").split(',')]\n",
    "freq = collections.Counter(F)\n",
    "print(\"Frequency of elements in the list :\",freq)"
   ]
  },
  {
   "cell_type": "markdown",
   "metadata": {},
   "source": [
    "### 8. Write a python script to calculate sum of all even numbers and sum of all odd numbers of the list. List data given by user. "
   ]
  },
  {
   "cell_type": "code",
   "execution_count": 35,
   "metadata": {},
   "outputs": [
    {
     "name": "stdout",
     "output_type": "stream",
     "text": [
      "Enter list elements 1,2,3,4,5,6,7,8,9\n",
      "[1, 2, 3, 4, 5, 6, 7, 8, 9]\n",
      "Odd digit sum : 25\n",
      "Even digit sum : 20\n"
     ]
    }
   ],
   "source": [
    "a=[eval(x) for x in input(\"Enter list elements \").split(',')]\n",
    "print(a)\n",
    "\n",
    "odd_sum = 0\n",
    "even_sum = 0\n",
    "\n",
    "for i in a:\n",
    "\n",
    "    odd_sum += sum([int(e) for e in str(i) if int(e) % 2 == 1])\n",
    "    even_sum += sum([int(e) for e in str(i) if int(e) % 2 == 0])\n",
    "\n",
    "print(\"Odd digit sum : \" + str(odd_sum))\n",
    "print(\"Even digit sum : \" + str(even_sum))"
   ]
  },
  {
   "cell_type": "code",
   "execution_count": null,
   "metadata": {},
   "outputs": [],
   "source": []
  }
 ],
 "metadata": {
  "kernelspec": {
   "display_name": "Python 3",
   "language": "python",
   "name": "python3"
  },
  "language_info": {
   "codemirror_mode": {
    "name": "ipython",
    "version": 3
   },
   "file_extension": ".py",
   "mimetype": "text/x-python",
   "name": "python",
   "nbconvert_exporter": "python",
   "pygments_lexer": "ipython3",
   "version": "3.7.6"
  }
 },
 "nbformat": 4,
 "nbformat_minor": 4
}
