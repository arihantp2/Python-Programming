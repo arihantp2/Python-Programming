{
 "cells": [
  {
   "cell_type": "markdown",
   "metadata": {},
   "source": [
    "# Topics: strings \n"
   ]
  },
  {
   "cell_type": "markdown",
   "metadata": {},
   "source": [
    "### 1. Write a python script calculate length of the string. String is given by user. "
   ]
  },
  {
   "cell_type": "code",
   "execution_count": 1,
   "metadata": {},
   "outputs": [
    {
     "name": "stdout",
     "output_type": "stream",
     "text": [
      "Enter string: Hello World\n"
     ]
    },
    {
     "data": {
      "text/plain": [
       "11"
      ]
     },
     "execution_count": 1,
     "metadata": {},
     "output_type": "execute_result"
    }
   ],
   "source": [
    "a=input(\"Enter string: \")\n",
    "len(a)"
   ]
  },
  {
   "cell_type": "code",
   "execution_count": 2,
   "metadata": {},
   "outputs": [
    {
     "name": "stdout",
     "output_type": "stream",
     "text": [
      "Enter string: Hello World\n",
      "Length of the string is 11\n"
     ]
    }
   ],
   "source": [
    "a=input(\"Enter string: \")\n",
    "count=0\n",
    "for i in a:\n",
    "    count+=1\n",
    "    \n",
    "print(\"Length of the string is\" , count)"
   ]
  },
  {
   "cell_type": "markdown",
   "metadata": {},
   "source": [
    "### 2. Write a python script to count vowels in a given string."
   ]
  },
  {
   "cell_type": "code",
   "execution_count": 5,
   "metadata": {},
   "outputs": [
    {
     "name": "stdout",
     "output_type": "stream",
     "text": [
      "Number of vowels are: 6\n"
     ]
    }
   ],
   "source": [
    "my_str = \"He loves programming\"\n",
    "Vowels=0\n",
    "for i in my_str:\n",
    "    if(i=='a' or i=='e' or i=='i' or i=='o' or i=='u' or i=='A' or i=='E' or i=='I' or i=='O' or i=='U'):\n",
    "        Vowels+=1\n",
    "        \n",
    "print(\"Number of vowels are:\",Vowels)"
   ]
  },
  {
   "cell_type": "markdown",
   "metadata": {},
   "source": [
    "### 3. Write a python script to reverse a string."
   ]
  },
  {
   "cell_type": "code",
   "execution_count": 8,
   "metadata": {},
   "outputs": [
    {
     "name": "stdout",
     "output_type": "stream",
     "text": [
      "yoB tramS a si iraH\n"
     ]
    }
   ],
   "source": [
    "my_str = \"Hari is a Smart Boy\"\n",
    "print(my_str[::-1])"
   ]
  },
  {
   "cell_type": "markdown",
   "metadata": {},
   "source": [
    "### 4. Write a python script to count occurrence of a given character in a given string."
   ]
  },
  {
   "cell_type": "code",
   "execution_count": 9,
   "metadata": {},
   "outputs": [
    {
     "name": "stdout",
     "output_type": "stream",
     "text": [
      "Enter string:Hello World\n",
      "Enter word:Hello\n",
      "Count of the word is: 1\n"
     ]
    }
   ],
   "source": [
    "string=input(\"Enter string:\")\n",
    "word=input(\"Enter word:\")\n",
    "a=[]\n",
    "count=0\n",
    "a=string.split(\" \")\n",
    "for i in range(0,len(a)):\n",
    "      if(word==a[i]):\n",
    "            count=count+1\n",
    "            \n",
    "print(\"Count of the word is:\", count)"
   ]
  },
  {
   "cell_type": "markdown",
   "metadata": {},
   "source": [
    "### 5. Write a python script to count words in a given string"
   ]
  },
  {
   "cell_type": "code",
   "execution_count": 11,
   "metadata": {},
   "outputs": [
    {
     "name": "stdout",
     "output_type": "stream",
     "text": [
      "5\n"
     ]
    }
   ],
   "source": [
    "my_str=\"Aruu is a good boy\"\n",
    "count_words = len(my_str.split())\n",
    "print(count_words)"
   ]
  },
  {
   "cell_type": "markdown",
   "metadata": {},
   "source": [
    "### 6. Write a python script to arrange words in a given string in alphabetical order"
   ]
  },
  {
   "cell_type": "code",
   "execution_count": 13,
   "metadata": {},
   "outputs": [
    {
     "name": "stdout",
     "output_type": "stream",
     "text": [
      "['a', 'ashu', 'boy', 'good', 'is']\n"
     ]
    }
   ],
   "source": [
    "my_str=\"ashu is a good boy\"\n",
    "sorted_words = sorted(my_str.split())\n",
    "print(sorted_words)"
   ]
  },
  {
   "cell_type": "markdown",
   "metadata": {},
   "source": [
    "### 7. Write a python script to check whether a given string is a palindrome or not"
   ]
  },
  {
   "cell_type": "code",
   "execution_count": 14,
   "metadata": {},
   "outputs": [
    {
     "name": "stdout",
     "output_type": "stream",
     "text": [
      "Enter string:Hello\n",
      "The string isn't a palindrome\n"
     ]
    }
   ],
   "source": [
    "string=input(\"Enter string:\")\n",
    "if(string==string[::-1]):\n",
    "      print(\"The string is a palindrome\")\n",
    "else:\n",
    "      print(\"The string isn't a palindrome\")"
   ]
  },
  {
   "cell_type": "code",
   "execution_count": 16,
   "metadata": {},
   "outputs": [
    {
     "name": "stdout",
     "output_type": "stream",
     "text": [
      "Enter string:ababa\n",
      "The string is a palindrome\n"
     ]
    }
   ],
   "source": [
    "string=input(\"Enter string:\")\n",
    "if(string==string[::-1]):\n",
    "      print(\"The string is a palindrome\")\n",
    "else:\n",
    "      print(\"The string isn't a palindrome\")"
   ]
  },
  {
   "cell_type": "markdown",
   "metadata": {},
   "source": [
    "### 8. Write a python script to remove duplicate characters from a given string"
   ]
  },
  {
   "cell_type": "code",
   "execution_count": 19,
   "metadata": {},
   "outputs": [
    {
     "name": "stdout",
     "output_type": "stream",
     "text": [
      "How many names you want to enter? 3\n",
      "1 Enter Name\n",
      "aru\n",
      "2 Enter Name\n",
      "ashu\n",
      "3 Enter Name\n",
      "aru\n",
      "aru ashu "
     ]
    }
   ],
   "source": [
    "names=[]\n",
    "n=int(input(\"How many names you want to enter? \"))\n",
    "\n",
    "for i in range(n):\n",
    "    print(i+1,\"Enter Name\")\n",
    "    names.append(input())\n",
    "    \n",
    "a=set(names)\n",
    "names=list(a)\n",
    "    \n",
    "for x in names:\n",
    "    print(x,end=' ')"
   ]
  },
  {
   "cell_type": "markdown",
   "metadata": {},
   "source": [
    "### 9. Write a python script to find a pattern in a given string"
   ]
  },
  {
   "cell_type": "code",
   "execution_count": 21,
   "metadata": {},
   "outputs": [
    {
     "name": "stdout",
     "output_type": "stream",
     "text": [
      "Enter a string: aabcaabd\n",
      "Enter some string pattern: aab\n",
      "Pattern found!\n"
     ]
    }
   ],
   "source": [
    "x = input(\"Enter a string: \")\n",
    "a = input(\"Enter some string pattern: \")\n",
    "if a in x:\n",
    "    print(\"Pattern found!\")\n",
    "else:    \n",
    "    print(\"No pattern found\")"
   ]
  },
  {
   "cell_type": "markdown",
   "metadata": {},
   "source": [
    "### 10. Write a python script to count occurrence of a given pattern in a given string "
   ]
  },
  {
   "cell_type": "code",
   "execution_count": 23,
   "metadata": {},
   "outputs": [
    {
     "name": "stdout",
     "output_type": "stream",
     "text": [
      "Enter a string: apsdaphjkapljaplk\n",
      "Enter some string pattern: ap\n",
      "Occurence of ap is 4\n"
     ]
    }
   ],
   "source": [
    "#Pattern occurences in string\n",
    "x = input(\"Enter a string: \")\n",
    "a = input(\"Enter some string pattern: \")\n",
    "y = x.count(a)\n",
    "print(\"Occurence of\" ,a, \"is\" ,y)"
   ]
  },
  {
   "cell_type": "code",
   "execution_count": null,
   "metadata": {},
   "outputs": [],
   "source": []
  }
 ],
 "metadata": {
  "kernelspec": {
   "display_name": "Python 3",
   "language": "python",
   "name": "python3"
  },
  "language_info": {
   "codemirror_mode": {
    "name": "ipython",
    "version": 3
   },
   "file_extension": ".py",
   "mimetype": "text/x-python",
   "name": "python",
   "nbconvert_exporter": "python",
   "pygments_lexer": "ipython3",
   "version": "3.7.6"
  }
 },
 "nbformat": 4,
 "nbformat_minor": 4
}
