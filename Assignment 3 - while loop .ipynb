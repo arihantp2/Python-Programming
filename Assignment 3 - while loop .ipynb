{
 "cells": [
  {
   "cell_type": "markdown",
   "metadata": {},
   "source": [
    "# Assignment-3 While loop"
   ]
  },
  {
   "cell_type": "markdown",
   "metadata": {},
   "source": [
    "## 1. Write a python script to print first 10 natural numbers. "
   ]
  },
  {
   "cell_type": "code",
   "execution_count": 1,
   "metadata": {},
   "outputs": [
    {
     "name": "stdout",
     "output_type": "stream",
     "text": [
      "1\n",
      "2\n",
      "3\n",
      "4\n",
      "5\n",
      "6\n",
      "7\n",
      "8\n",
      "9\n",
      "10\n"
     ]
    }
   ],
   "source": [
    "x=1\n",
    "while x<=10 :\n",
    "    print(x)\n",
    "    x=x+1"
   ]
  },
  {
   "cell_type": "markdown",
   "metadata": {},
   "source": [
    "## 2. Write a python script to print first 10 natural numbers in reverse order. "
   ]
  },
  {
   "cell_type": "code",
   "execution_count": 2,
   "metadata": {},
   "outputs": [
    {
     "name": "stdout",
     "output_type": "stream",
     "text": [
      "10\n",
      "9\n",
      "8\n",
      "7\n",
      "6\n",
      "5\n",
      "4\n",
      "3\n",
      "2\n",
      "1\n"
     ]
    }
   ],
   "source": [
    "x=10\n",
    "while x>=1 :\n",
    "    print(x)\n",
    "    x=x-1\n"
   ]
  },
  {
   "cell_type": "code",
   "execution_count": null,
   "metadata": {},
   "outputs": [],
   "source": []
  },
  {
   "cell_type": "markdown",
   "metadata": {},
   "source": [
    "## 3. Write a python script to print first 10 odd natural numbers "
   ]
  },
  {
   "cell_type": "code",
   "execution_count": 7,
   "metadata": {},
   "outputs": [
    {
     "name": "stdout",
     "output_type": "stream",
     "text": [
      "1\n",
      "3\n",
      "5\n",
      "7\n",
      "9\n",
      "11\n",
      "13\n",
      "15\n",
      "17\n",
      "19\n"
     ]
    }
   ],
   "source": [
    "x=1\n",
    "while x<=20 :\n",
    "    print(x)\n",
    "    x=x+2\n"
   ]
  },
  {
   "cell_type": "markdown",
   "metadata": {},
   "source": [
    "## 4. Write a python script to print first 10 even natural numbers"
   ]
  },
  {
   "cell_type": "code",
   "execution_count": 4,
   "metadata": {},
   "outputs": [
    {
     "name": "stdout",
     "output_type": "stream",
     "text": [
      "2\n",
      "4\n",
      "6\n",
      "8\n",
      "10\n",
      "12\n",
      "14\n",
      "16\n",
      "18\n",
      "20\n"
     ]
    }
   ],
   "source": [
    "x=2\n",
    "while x<=21 :\n",
    "    print(x)\n",
    "    x=x+2\n"
   ]
  },
  {
   "cell_type": "markdown",
   "metadata": {},
   "source": [
    "## 5. Write a python script to print first N natural numbers. Value of N is taken from user. "
   ]
  },
  {
   "cell_type": "code",
   "execution_count": 8,
   "metadata": {},
   "outputs": [
    {
     "name": "stdout",
     "output_type": "stream",
     "text": [
      "Enter number of values 15\n",
      "1\n",
      "2\n",
      "3\n",
      "4\n",
      "5\n",
      "6\n",
      "7\n",
      "8\n",
      "9\n",
      "10\n",
      "11\n",
      "12\n",
      "13\n",
      "14\n",
      "15\n"
     ]
    }
   ],
   "source": [
    "N=int(input(\"Enter number of values \"))\n",
    "x=1\n",
    "while x<=N:\n",
    "    print(x)\n",
    "    x=x+1\n",
    "    \n"
   ]
  },
  {
   "cell_type": "markdown",
   "metadata": {},
   "source": [
    "## 6. Write a python script to print first N natural numbers in reverse order. Value of N is taken from user. "
   ]
  },
  {
   "cell_type": "code",
   "execution_count": 9,
   "metadata": {},
   "outputs": [
    {
     "name": "stdout",
     "output_type": "stream",
     "text": [
      "Enter number of values 15\n",
      "15\n",
      "14\n",
      "13\n",
      "12\n",
      "11\n",
      "10\n",
      "9\n",
      "8\n",
      "7\n",
      "6\n",
      "5\n",
      "4\n",
      "3\n",
      "2\n",
      "1\n"
     ]
    }
   ],
   "source": [
    "x=int(input(\"Enter number of values \"))\n",
    "\n",
    "while x>=1:\n",
    "    print(x)\n",
    "    x=x-1\n",
    "    "
   ]
  },
  {
   "cell_type": "markdown",
   "metadata": {},
   "source": [
    "## 7. Write a python script to calculate sum of first N natural numbers. Value of N is taken from user. "
   ]
  },
  {
   "cell_type": "code",
   "execution_count": 16,
   "metadata": {},
   "outputs": [
    {
     "name": "stdout",
     "output_type": "stream",
     "text": [
      "Enter a number : 65\n",
      "The sum of first n natural numbers is 2145\n"
     ]
    }
   ],
   "source": [
    "N=int(input(\"Enter a number : \"))\n",
    "x=0 #initial value of sum\n",
    "i=1 #First Number\n",
    "while i <=N:\n",
    "    x=x+i\n",
    "    i=i+1\n",
    "\n",
    "print(\"The sum of first n natural numbers is\",x)\n",
    "    "
   ]
  },
  {
   "cell_type": "markdown",
   "metadata": {},
   "source": [
    "## 8. Write a python script to calculate sum of first N odd natural numbers. Value of N is taken from user. "
   ]
  },
  {
   "cell_type": "code",
   "execution_count": 20,
   "metadata": {},
   "outputs": [
    {
     "name": "stdout",
     "output_type": "stream",
     "text": [
      "Enter a number : 100\n",
      "The sum of first 100 odd natural numbers is:  2500\n"
     ]
    }
   ],
   "source": [
    "N=int(input(\"Enter a number : \"))\n",
    "x=0 #initial value of sum\n",
    "i=1 #First Number\n",
    "while i <=N:\n",
    "    x=x+i\n",
    "    i=i+2\n",
    "    \n",
    "\n",
    "print(\"The sum of first\",N,\"odd natural numbers is: \",x)\n",
    "    "
   ]
  },
  {
   "cell_type": "markdown",
   "metadata": {},
   "source": [
    "## 9. Write a python script to calculate factorial of a number. Number is taken from user. "
   ]
  },
  {
   "cell_type": "code",
   "execution_count": 6,
   "metadata": {},
   "outputs": [
    {
     "name": "stdout",
     "output_type": "stream",
     "text": [
      "Enter a Number: 5\n",
      "Factorial of 5 number is:  120\n"
     ]
    }
   ],
   "source": [
    "x=int(input(\"Enter a Number: \"))\n",
    "fac=1\n",
    "i=1\n",
    "while i<=x :\n",
    "    fac=fac*i\n",
    "    i=i+1\n",
    "    \n",
    "print(\"Factorial of\",x,\"number is: \",fac)"
   ]
  },
  {
   "cell_type": "markdown",
   "metadata": {},
   "source": [
    "## 10. Write a python script to calculate product of first N odd natural numbers. Value of N is taken from user. "
   ]
  },
  {
   "cell_type": "code",
   "execution_count": 8,
   "metadata": {},
   "outputs": [
    {
     "name": "stdout",
     "output_type": "stream",
     "text": [
      "Enter a number : 10\n",
      "The product of first 10 odd natural numbers is:  945\n"
     ]
    }
   ],
   "source": [
    "N=int(input(\"Enter a number : \"))\n",
    "x=1 #initial value of product\n",
    "i=1 #First Number\n",
    "while i <=N:\n",
    "    x=x*i\n",
    "    i=i+2\n",
    "    \n",
    "\n",
    "print(\"The product of first\",N,\"odd natural numbers is: \",x)\n",
    "    "
   ]
  },
  {
   "cell_type": "code",
   "execution_count": null,
   "metadata": {},
   "outputs": [],
   "source": []
  }
 ],
 "metadata": {
  "kernelspec": {
   "display_name": "Python 3",
   "language": "python",
   "name": "python3"
  }
 },
 "nbformat": 4,
 "nbformat_minor": 4
}
