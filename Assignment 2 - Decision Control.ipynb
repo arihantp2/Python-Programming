{
 "cells": [
  {
   "cell_type": "markdown",
   "metadata": {},
   "source": [
    "# Assignment on Decision Control"
   ]
  },
  {
   "cell_type": "markdown",
   "metadata": {},
   "source": [
    "### 1. Write a python script to check whether a given number is even or odd."
   ]
  },
  {
   "cell_type": "code",
   "execution_count": 1,
   "metadata": {},
   "outputs": [
    {
     "name": "stdout",
     "output_type": "stream",
     "text": [
      "Enter a Number 13\n",
      "Number is odd\n"
     ]
    }
   ],
   "source": [
    "x=input(\"Enter a Number \")\n",
    "\n",
    "if int(x)%2==0 :\n",
    "    print(\"Number is even\")\n",
    "else :\n",
    "    print(\"Number is odd\")"
   ]
  },
  {
   "cell_type": "markdown",
   "metadata": {},
   "source": [
    "### 2. Write a python script to check whether a given number is divisible by 5 or not "
   ]
  },
  {
   "cell_type": "code",
   "execution_count": 4,
   "metadata": {},
   "outputs": [
    {
     "name": "stdout",
     "output_type": "stream",
     "text": [
      "Enter a Number 87\n",
      "Number is not divisible by 5\n"
     ]
    }
   ],
   "source": [
    "x=input(\"Enter a Number \")\n",
    "\n",
    "if int(x)%5 == 0 :\n",
    "    print(\"Number is divisible by 5\")\n",
    "else :\n",
    "    print(\"Number is not divisible by 5\")\n"
   ]
  },
  {
   "cell_type": "markdown",
   "metadata": {},
   "source": [
    "### 3. Write a python script to check whether a given number is positive negative or zero"
   ]
  },
  {
   "cell_type": "code",
   "execution_count": 6,
   "metadata": {},
   "outputs": [
    {
     "name": "stdout",
     "output_type": "stream",
     "text": [
      "Enter a number -7\n",
      "Number is negative \n"
     ]
    }
   ],
   "source": [
    "x=input(\"Enter a number \")\n",
    "\n",
    "if int(x)<0 :\n",
    "    print(\"Number is negative \")\n",
    "    \n",
    "elif int(x)>0 :\n",
    "    print(\"number is positive \")\n",
    "    \n",
    "else :\n",
    "    print(\"Number is zero \")"
   ]
  },
  {
   "cell_type": "code",
   "execution_count": 17,
   "metadata": {},
   "outputs": [
    {
     "name": "stdout",
     "output_type": "stream",
     "text": [
      "Enter a number-1\n",
      "-1 is negative number\n"
     ]
    }
   ],
   "source": [
    "x=int(input(\"Enter a number\"))\n",
    "\n",
    "if x>0 :\n",
    "    print('%d is positive number' %x)\n",
    "    \n",
    "elif x<0 :\n",
    "    print('%d is negative number' %x)\n",
    "\n",
    "else :\n",
    "    print('Number is zero' %x)"
   ]
  },
  {
   "cell_type": "markdown",
   "metadata": {},
   "source": [
    "### 4. Write a python script to find greatest among three numbers."
   ]
  },
  {
   "cell_type": "code",
   "execution_count": 9,
   "metadata": {},
   "outputs": [
    {
     "name": "stdout",
     "output_type": "stream",
     "text": [
      "Enter a number 7\n",
      "Enter a number 8\n",
      "Enter a number 2\n",
      "8 is the greatest number\n"
     ]
    }
   ],
   "source": [
    "x=int(input(\"Enter a number \"))\n",
    "y=int(input(\"Enter a number \"))\n",
    "z=int(input(\"Enter a number \"))\n",
    "\n",
    "if x > y and z < x :\n",
    "    print('%d is the greatest number' %x)\n",
    "elif y > x and y > z :\n",
    "    print('%d is the greatest number' %y)\n",
    "else :\n",
    "    print('%d is the greatest number' %z)"
   ]
  },
  {
   "cell_type": "markdown",
   "metadata": {},
   "source": [
    "### 5. Write a python script to check if a year is leap year or not."
   ]
  },
  {
   "cell_type": "code",
   "execution_count": 12,
   "metadata": {},
   "outputs": [
    {
     "name": "stdout",
     "output_type": "stream",
     "text": [
      "Enter a year 2004\n",
      "given year is a leap year\n"
     ]
    }
   ],
   "source": [
    "x=int(input(\"Enter a year \"))\n",
    "\n",
    "if x%400==0 or x%100!=0 and x%4==0:\n",
    "    print(\"given year is a leap year\")\n",
    "    \n",
    "else :\n",
    "     print(\"given year is not a leap year\")\n",
    "    \n"
   ]
  },
  {
   "cell_type": "code",
   "execution_count": 15,
   "metadata": {},
   "outputs": [
    {
     "name": "stdout",
     "output_type": "stream",
     "text": [
      "Enter Year: 1974\n",
      "1974 is not a Leap Year\n"
     ]
    }
   ],
   "source": [
    "year = int(input(\"Enter Year: \"))\n",
    "\n",
    "if year % 4 == 0 and year % 100 != 0:\n",
    "    print(year, \"is a Leap Year\")\n",
    "elif year % 100 == 0:\n",
    "    print(year, \"is not a Leap Year\")\n",
    "elif year % 400 ==0:\n",
    "    print(year, \"is a Leap Year\")\n",
    "else:\n",
    "    print(year, \"is not a Leap Year\")"
   ]
  },
  {
   "cell_type": "markdown",
   "metadata": {},
   "source": [
    "### 6. Write a python script to take month value in numeric format and display number of days in it."
   ]
  },
  {
   "cell_type": "code",
   "execution_count": 28,
   "metadata": {},
   "outputs": [
    {
     "name": "stdout",
     "output_type": "stream",
     "text": [
      "Enter a month number 8\n",
      "31 days\n"
     ]
    }
   ],
   "source": [
    "x=int(input(\"Enter a month number \"))\n",
    "if x==1 or x==3 or x==5 or x==7 or 8 or x==10 or x==12:\n",
    "    print(\"31 days\")\n",
    "elif x==2:\n",
    "    print(\"28 or 29 days\")\n",
    "else:\n",
    "    print(\"30 days\")"
   ]
  },
  {
   "cell_type": "code",
   "execution_count": 29,
   "metadata": {},
   "outputs": [
    {
     "name": "stdout",
     "output_type": "stream",
     "text": [
      "Enter Month value 08\n",
      "Enter year 2021\n",
      "Number of days in given month is 31\n"
     ]
    }
   ],
   "source": [
    "month=int(input(\"Enter Month value \"))\n",
    "year=int(input(\"Enter year \"))\n",
    "\n",
    "if month==1 or 3 or 5 or 7 or 8 or 10 :\n",
    "    print(\"Number of days in given month is 31\")\n",
    "    \n",
    "elif month==2 and year %4==0 and year%400==0 and year%100!=0 :\n",
    "    print(\"number of days in given month is 29\")\n",
    "elif month==2 :\n",
    "    print(\"Number of days is 28\")\n",
    "else :\n",
    "    print(\"Number of days is 30\")"
   ]
  },
  {
   "cell_type": "markdown",
   "metadata": {},
   "source": [
    "### 7. Write a python script to check nature of roots of a given quadratic equation"
   ]
  },
  {
   "cell_type": "code",
   "execution_count": 32,
   "metadata": {},
   "outputs": [
    {
     "name": "stdout",
     "output_type": "stream",
     "text": [
      "enter value : 7\n",
      "enter value : 6\n",
      "enter value : -4\n",
      "Two Distinct Real Roots Exists: root1 = -5.13 and root2 = -6.87\n",
      "Two Distinct Complex Roots Exists: root1 = -5.13+0.42 and root2 = -6.87-0.42\n"
     ]
    }
   ],
   "source": [
    "import math \n",
    "\n",
    "a = int(input(\"enter value : \"))\n",
    "b = int(input(\"enter value : \"))\n",
    "c = int(input(\"enter value : \"))\n",
    "\n",
    "d= (b * b) - (4 * a * c)\n",
    "\n",
    "if(d > 0):\n",
    "\n",
    "    root1 = (-b + math.sqrt(d) / (2 * a))\n",
    "\n",
    "    root2 = (-b - math.sqrt(d) / (2 * a))\n",
    "    \n",
    "    print(\"Two Distinct Real Roots Exists: root1 = %.2f and root2 = %.2f\" %(root1, root2))\n",
    "    \n",
    "elif(d == 0):\n",
    "\n",
    "    root1 = root2 = -b / (2 * a)\n",
    "\n",
    "    print(\"Two Equal and Real Roots Exists: root1 = %.2f and root2 = %.2f\" %(root1, root2))\n",
    "\n",
    "elif(d < 0):\n",
    "\n",
    "    root1 = root2 = -b / (2 * a)\n",
    "\n",
    "    imaginary = math.sqrt(-d) / (2 * a)\n",
    "\n",
    "print(\"Two Distinct Complex Roots Exists: root1 = %.2f+%.2f and root2 = %.2f-%.2f\" %(root1, imaginary, root2, imaginary))\n"
   ]
  },
  {
   "cell_type": "markdown",
   "metadata": {},
   "source": [
    "### 8. Write a python script to print a set of three words in dictionary order. Words are given by user. "
   ]
  },
  {
   "cell_type": "code",
   "execution_count": 35,
   "metadata": {},
   "outputs": [
    {
     "name": "stdout",
     "output_type": "stream",
     "text": [
      "Enter First Word Pune\n",
      "Enter second Word Mumbai\n",
      "Enter third word Delhi\n",
      "Delhi Mumbai Pune\n"
     ]
    }
   ],
   "source": [
    "a = input(\"Enter First Word \")\n",
    "b = input(\"Enter second Word \")\n",
    "c = input(\"Enter third word \")\n",
    "\n",
    "if a<b<c:\n",
    "    print(a,b,c)\n",
    "elif a<c<b :\n",
    "    print(a,c,b)\n",
    "elif b<a<c :\n",
    "    print(b,a,c)\n",
    "elif b<c<a:\n",
    "    print(b,c,a)\n",
    "elif c<b<a:\n",
    "    print(c,b,a)\n",
    "else:\n",
    "    print(c,a,b)\n",
    "    \n"
   ]
  },
  {
   "cell_type": "code",
   "execution_count": 37,
   "metadata": {},
   "outputs": [
    {
     "name": "stdout",
     "output_type": "stream",
     "text": [
      "Enter three City Names\n",
      "Bhopal\n",
      "Ahemdabad\n",
      "Jaipur\n",
      "Ahemdabad\n",
      "Bhopal Jaipur\n"
     ]
    }
   ],
   "source": [
    "print(\"Enter three City Names\")\n",
    "a,b,c=input(),input(),input()\n",
    "x=min(a,b,c)\n",
    "print(x)\n",
    "\n",
    "if x==a :\n",
    "    print(min(b,c),max(b,c))\n",
    "elif x==b :\n",
    "    print(min(a,c),max(a,c))\n",
    "else :\n",
    "    print(min(a,b),max(a,b))"
   ]
  },
  {
   "cell_type": "code",
   "execution_count": 36,
   "metadata": {},
   "outputs": [
    {
     "name": "stdout",
     "output_type": "stream",
     "text": [
      "Enter comma seperated three city names  Ahemdabad , Bhopal , Jaipur\n",
      " Ahemdabad   Bhopal   Jaipur "
     ]
    },
    {
     "data": {
      "text/plain": [
       "[]"
      ]
     },
     "execution_count": 36,
     "metadata": {},
     "output_type": "execute_result"
    }
   ],
   "source": [
    "# SINGLE LINE CODE\n",
    "\n",
    "[x for x in sorted(input(\"Enter comma seperated three city names \").split(',')) if print(x,end=' ')]"
   ]
  },
  {
   "cell_type": "markdown",
   "metadata": {},
   "source": [
    "### 9. Write a python script to accept one complex number from user and display the greater number between real part and imaginary part "
   ]
  },
  {
   "cell_type": "code",
   "execution_count": 38,
   "metadata": {},
   "outputs": [
    {
     "name": "stdout",
     "output_type": "stream",
     "text": [
      "Enter a complex number 4+5j\n",
      "Imaginary part has a greater number 5.0\n"
     ]
    }
   ],
   "source": [
    "x=complex(input(\"Enter a complex number \"))\n",
    "\n",
    "if x.real > x.imag :\n",
    "    print(\"Real part has a greater number\", x.real)\n",
    "    \n",
    "else :\n",
    "    print(\"Imaginary part has a greater number\", x.imag)\n",
    "\n"
   ]
  },
  {
   "cell_type": "markdown",
   "metadata": {},
   "source": [
    "### 10. Write a python script to accept marks of five subjects from user (assuming maximum marks is 100). Display student's result as PASS or FAIL. If the student is PASS then also display his percentage and division. \n"
   ]
  },
  {
   "cell_type": "code",
   "execution_count": 41,
   "metadata": {},
   "outputs": [
    {
     "name": "stdout",
     "output_type": "stream",
     "text": [
      "Enter Marks of 5 subjects\n",
      "10\n",
      "15\n",
      "27\n",
      "28\n",
      "40\n",
      "Result : Fail\n"
     ]
    }
   ],
   "source": [
    "print(\"Enter Marks of 5 subjects\")\n",
    "a,b,c,d,e =int(input()),int(input()),int(input()),int(input()),int(input())\n",
    "\n",
    "if a>35 and b>35 and c>35 and d>35 and e>35 :\n",
    "    print(\"Result : Pass\")\n",
    "    per=(a+b+c+d+e)/5\n",
    "    print(\"Percentage: \",per)\n",
    "    if per>60 :\n",
    "        print(\"First division\")\n",
    "    elif per>50 and per<60 :\n",
    "        print(\"Second division\")\n",
    "    elif per>35 and per<50 :\n",
    "        print(\"Third division\")\n",
    "else :\n",
    "    print(\"Result : Fail\")\n",
    "        "
   ]
  },
  {
   "cell_type": "code",
   "execution_count": 43,
   "metadata": {},
   "outputs": [
    {
     "name": "stdout",
     "output_type": "stream",
     "text": [
      "Enter Marks of 5 subjects\n",
      "70\n",
      "80\n",
      "50\n",
      "90\n",
      "65\n",
      "RESULT : PASS \n",
      "Percentage:  71.0\n",
      "First division\n"
     ]
    }
   ],
   "source": [
    "print(\"Enter Marks of 5 subjects\")\n",
    "a,b,c,d,e =int(input()),int(input()),int(input()),int(input()),int(input())\n",
    "\n",
    "if a>35 and b>35 and c>35 and d>35 and e>35 :\n",
    "    print(\"RESULT : PASS \")\n",
    "    per=(a+b+c+d+e)/5\n",
    "    print(\"Percentage: \",per)\n",
    "    if per>60 :\n",
    "        print(\"First division\")\n",
    "    elif per>=50 :\n",
    "        print(\"Second division\")\n",
    "    else :\n",
    "        print(\"Third division\")\n",
    "else :\n",
    "    print(\"RESULT : FAIL \")"
   ]
  },
  {
   "cell_type": "code",
   "execution_count": null,
   "metadata": {},
   "outputs": [],
   "source": []
  }
 ],
 "metadata": {
  "kernelspec": {
   "display_name": "Python 3",
   "language": "python",
   "name": "python3"
  },
  "language_info": {
   "codemirror_mode": {
    "name": "ipython",
    "version": 3
   },
   "file_extension": ".py",
   "mimetype": "text/x-python",
   "name": "python",
   "nbconvert_exporter": "python",
   "pygments_lexer": "ipython3",
   "version": "3.7.6"
  }
 },
 "nbformat": 4,
 "nbformat_minor": 4
}
