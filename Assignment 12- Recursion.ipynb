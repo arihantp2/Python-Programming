{
 "cells": [
  {
   "cell_type": "markdown",
   "metadata": {},
   "source": [
    "# Topic: Recursion "
   ]
  },
  {
   "cell_type": "markdown",
   "metadata": {},
   "source": [
    "The term Recursion can be defined as the process of defining something in terms of itself. In simple words, it is a process in which a function calls itself directly or indirectly."
   ]
  },
  {
   "cell_type": "markdown",
   "metadata": {},
   "source": [
    "### Write a recursive function to print first N natural numbers. "
   ]
  },
  {
   "cell_type": "code",
   "execution_count": 1,
   "metadata": {},
   "outputs": [
    {
     "name": "stdout",
     "output_type": "stream",
     "text": [
      "2\n",
      "3\n",
      "4\n",
      "5\n",
      "6\n",
      "7\n",
      "8\n",
      "9\n",
      "10\n",
      "11\n"
     ]
    }
   ],
   "source": [
    "def nums(n):\n",
    "    if 1<=n:\n",
    "        nums(n-1)\n",
    "        print(n+1)\n",
    "nums(10)"
   ]
  },
  {
   "cell_type": "code",
   "execution_count": 2,
   "metadata": {},
   "outputs": [
    {
     "name": "stdout",
     "output_type": "stream",
     "text": [
      "10\n",
      "1 2 3 4 5 6 7 8 9 10 "
     ]
    }
   ],
   "source": [
    "x=int(input())\n",
    "n=1\n",
    "def natural_nums(n):\n",
    "    if(n<=x):\n",
    "        print(n,end=\" \")\n",
    "        natural_nums(n + 1)\n",
    "natural_nums(n)"
   ]
  },
  {
   "cell_type": "markdown",
   "metadata": {},
   "source": [
    "### Write a recursive function to print first N natural numbers in reverse order"
   ]
  },
  {
   "cell_type": "code",
   "execution_count": 3,
   "metadata": {},
   "outputs": [
    {
     "name": "stdout",
     "output_type": "stream",
     "text": [
      "10 9 8 7 6 5 4 3 2 1 0 "
     ]
    }
   ],
   "source": [
    "def reverse_natural_nums(n):\n",
    "    print(n,end=' ')\n",
    "    if n==0:\n",
    "        return \n",
    "    \n",
    "    else:\n",
    "        reverse_natural_nums(n-1)\n",
    "   \n",
    "reverse_natural_nums(10)"
   ]
  },
  {
   "cell_type": "markdown",
   "metadata": {},
   "source": [
    "### Write a recursive function to print first N even natural numbers "
   ]
  },
  {
   "cell_type": "code",
   "execution_count": 4,
   "metadata": {},
   "outputs": [
    {
     "name": "stdout",
     "output_type": "stream",
     "text": [
      "2 4 6 8 10 12 14 16 18 "
     ]
    }
   ],
   "source": [
    "def even_numbers(n):\n",
    "    if n>=2:\n",
    "        \n",
    "        even_numbers(n-1)\n",
    "        print(n*2-2,end=' ')\n",
    "        \n",
    "even_numbers(10)"
   ]
  },
  {
   "cell_type": "code",
   "execution_count": 5,
   "metadata": {},
   "outputs": [
    {
     "name": "stdout",
     "output_type": "stream",
     "text": [
      "25\n",
      "2 4 6 8 10 12 14 16 18 20 22 24 "
     ]
    }
   ],
   "source": [
    "x=int(input())\n",
    "n=2\n",
    "def even_natural_nums(n):\n",
    "    if(n<=x):\n",
    "        print(n,end=\" \")\n",
    "        even_natural_nums(n + 2)\n",
    "even_natural_nums(n)"
   ]
  },
  {
   "cell_type": "markdown",
   "metadata": {},
   "source": [
    "### Write a recursive function to print first N odd natural numbers in reverse order"
   ]
  },
  {
   "cell_type": "code",
   "execution_count": 6,
   "metadata": {},
   "outputs": [
    {
     "name": "stdout",
     "output_type": "stream",
     "text": [
      "18 16 14 12 10 8 6 4 2 "
     ]
    }
   ],
   "source": [
    "def even_numbers(n):\n",
    "    if n>=2:\n",
    "        print(n*2-2,end=' ')\n",
    "        even_numbers(n-1)\n",
    "even_numbers(10)"
   ]
  },
  {
   "cell_type": "code",
   "execution_count": 7,
   "metadata": {},
   "outputs": [
    {
     "name": "stdout",
     "output_type": "stream",
     "text": [
      "20 18 16 14 12 10 8 6 4 2 "
     ]
    }
   ],
   "source": [
    "def reverse_even_natural_nums(n):\n",
    "    print(n,end=' ')\n",
    "    if n==2:\n",
    "        return \n",
    "    else:\n",
    "        reverse_even_natural_nums(n-2)\n",
    "   \n",
    "reverse_even_natural_nums(20)"
   ]
  },
  {
   "cell_type": "markdown",
   "metadata": {},
   "source": [
    "### Write a recursive function to print first N odd natural numbers "
   ]
  },
  {
   "cell_type": "code",
   "execution_count": 8,
   "metadata": {},
   "outputs": [
    {
     "name": "stdout",
     "output_type": "stream",
     "text": [
      "50\n",
      "1 3 5 7 9 11 13 15 17 19 21 23 25 27 29 31 33 35 37 39 41 43 45 47 49 "
     ]
    }
   ],
   "source": [
    "x=int(input())\n",
    "n=1\n",
    "def odd_natural_nums(n):\n",
    "    if(n<=x):\n",
    "        print(n,end=\" \")\n",
    "        even_natural_nums(n + 2)\n",
    "odd_natural_nums(n)"
   ]
  },
  {
   "cell_type": "code",
   "execution_count": 9,
   "metadata": {},
   "outputs": [
    {
     "name": "stdout",
     "output_type": "stream",
     "text": [
      "1 3 5 7 9 "
     ]
    }
   ],
   "source": [
    "def oddNumbers(n):\n",
    "    if n > 0:\n",
    "        oddNumbers(n-1)\n",
    "        print(n * 2 -1 , end=\" \")\n",
    "\n",
    "oddNumbers(5)"
   ]
  },
  {
   "cell_type": "markdown",
   "metadata": {},
   "source": [
    "### Write a recursive function to print first N odd natural numbers in reverse order"
   ]
  },
  {
   "cell_type": "code",
   "execution_count": 10,
   "metadata": {},
   "outputs": [
    {
     "name": "stdout",
     "output_type": "stream",
     "text": [
      "9 7 5 3 1 "
     ]
    }
   ],
   "source": [
    "def oddNumbers (n):\n",
    "    if n > 0:\n",
    "        print (n * 2 - 1, end=\" \")\n",
    "        oddNumbers (n-1)\n",
    "\n",
    "oddNumbers(5)"
   ]
  },
  {
   "cell_type": "code",
   "execution_count": 11,
   "metadata": {},
   "outputs": [
    {
     "name": "stdout",
     "output_type": "stream",
     "text": [
      "49 47 45 43 41 39 37 35 33 31 29 27 25 23 21 19 17 15 13 11 9 7 5 3 1 "
     ]
    }
   ],
   "source": [
    "def reverse_odd_natural_nums(n):\n",
    "    print(n,end=' ')\n",
    "    if n<=1:\n",
    "        return\n",
    "    else:\n",
    "        if n%2==0:\n",
    "            return\n",
    "        else:\n",
    "            reverse_odd_natural_nums(n-2)\n",
    "reverse_odd_natural_nums(49)"
   ]
  },
  {
   "cell_type": "markdown",
   "metadata": {},
   "source": [
    "### Write a recursive function to print squares of first N natural numbers"
   ]
  },
  {
   "cell_type": "code",
   "execution_count": 12,
   "metadata": {},
   "outputs": [
    {
     "name": "stdout",
     "output_type": "stream",
     "text": [
      "15\n",
      "1 4 9 16 25 36 49 64 81 100 121 144 169 196 225 "
     ]
    }
   ],
   "source": [
    "x=int(input())\n",
    "n=1\n",
    "def natural_nums(n):\n",
    "    if(n<=x):\n",
    "        print(n*n,end=\" \")\n",
    "        natural_nums(n + 1)\n",
    "natural_nums(n)"
   ]
  },
  {
   "cell_type": "markdown",
   "metadata": {},
   "source": [
    "### Write a recursive function to print squares of first N natural numbers in reverse order \n",
    "    "
   ]
  },
  {
   "cell_type": "code",
   "execution_count": 13,
   "metadata": {},
   "outputs": [
    {
     "name": "stdout",
     "output_type": "stream",
     "text": [
      "100 81 64 49 36 25 16 9 4 1 "
     ]
    }
   ],
   "source": [
    "def natural_nums(n):\n",
    "    if 1<=n:\n",
    "        print(n*n,end=' ')\n",
    "        natural_nums(n-1)\n",
    "natural_nums(10)"
   ]
  },
  {
   "cell_type": "markdown",
   "metadata": {},
   "source": [
    "### Write a recursive function to print cubes of first N natural numbers "
   ]
  },
  {
   "cell_type": "code",
   "execution_count": 14,
   "metadata": {},
   "outputs": [
    {
     "name": "stdout",
     "output_type": "stream",
     "text": [
      "1\n",
      "8\n",
      "27\n",
      "64\n",
      "125\n",
      "216\n",
      "343\n",
      "512\n",
      "729\n",
      "1000\n"
     ]
    }
   ],
   "source": [
    "def cubes_n_nums(n):\n",
    "    if n>=1:\n",
    "        cubes_n_nums(n-1)\n",
    "        print(n**3)\n",
    "cubes_n_nums(10)"
   ]
  },
  {
   "cell_type": "markdown",
   "metadata": {},
   "source": [
    "### Write a recursive function to print cubes of first N natural numbers in reverse order "
   ]
  },
  {
   "cell_type": "code",
   "execution_count": 15,
   "metadata": {},
   "outputs": [
    {
     "name": "stdout",
     "output_type": "stream",
     "text": [
      "1000 729 512 343 216 125 64 27 8 1 "
     ]
    }
   ],
   "source": [
    "def cubes_n_reverse_nums(n):\n",
    "    if 1<=n:\n",
    "        print(n**3,end=' ')\n",
    "        cubes_n_reverse_nums(n-1)\n",
    "        \n",
    "cubes_n_reverse_nums(10)"
   ]
  },
  {
   "cell_type": "markdown",
   "metadata": {},
   "source": [
    "### sum of first n natural numbers"
   ]
  },
  {
   "cell_type": "code",
   "execution_count": 16,
   "metadata": {},
   "outputs": [
    {
     "name": "stdout",
     "output_type": "stream",
     "text": [
      "10\n"
     ]
    },
    {
     "data": {
      "text/plain": [
       "55"
      ]
     },
     "execution_count": 16,
     "metadata": {},
     "output_type": "execute_result"
    }
   ],
   "source": [
    "def sum(n):\n",
    "    if n==1:                 #Base Case \n",
    "        return 1\n",
    "    else:\n",
    "        return n+sum(n-1)    #Recursive Case\n",
    "n=int(input())\n",
    "sum(n)"
   ]
  },
  {
   "cell_type": "markdown",
   "metadata": {},
   "source": [
    "### sum of first n even natural numbers"
   ]
  },
  {
   "cell_type": "code",
   "execution_count": 18,
   "metadata": {},
   "outputs": [
    {
     "name": "stdout",
     "output_type": "stream",
     "text": [
      "5\n"
     ]
    },
    {
     "data": {
      "text/plain": [
       "20"
      ]
     },
     "execution_count": 18,
     "metadata": {},
     "output_type": "execute_result"
    }
   ],
   "source": [
    "def sum(n):\n",
    "    if n==0:                 \n",
    "        return 0\n",
    "    else:\n",
    "        return n*2-2+sum(n-1)    \n",
    "n=int(input())\n",
    "sum(n)"
   ]
  },
  {
   "cell_type": "markdown",
   "metadata": {},
   "source": [
    "### sum of first n odd natural numbers"
   ]
  },
  {
   "cell_type": "code",
   "execution_count": 19,
   "metadata": {},
   "outputs": [
    {
     "name": "stdout",
     "output_type": "stream",
     "text": [
      "5\n"
     ]
    },
    {
     "data": {
      "text/plain": [
       "25"
      ]
     },
     "execution_count": 19,
     "metadata": {},
     "output_type": "execute_result"
    }
   ],
   "source": [
    "def sum(n):\n",
    "    if n==1:                 \n",
    "        return 1\n",
    "    else:\n",
    "        return n*2-1+sum(n-1)    \n",
    "n=int(input())\n",
    "sum(n)"
   ]
  },
  {
   "cell_type": "markdown",
   "metadata": {},
   "source": [
    "### sum of squares of first n natural numbers "
   ]
  },
  {
   "cell_type": "code",
   "execution_count": 20,
   "metadata": {},
   "outputs": [
    {
     "data": {
      "text/plain": [
       "55"
      ]
     },
     "execution_count": 20,
     "metadata": {},
     "output_type": "execute_result"
    }
   ],
   "source": [
    "def sum_squares(n):\n",
    "    if n==1:                  \n",
    "        return 1\n",
    "    else:\n",
    "        return n**2+sum_squares(n-1)    \n",
    "sum_squares(5)"
   ]
  },
  {
   "cell_type": "markdown",
   "metadata": {},
   "source": [
    "### Calculate factorial of number"
   ]
  },
  {
   "cell_type": "code",
   "execution_count": 21,
   "metadata": {},
   "outputs": [
    {
     "data": {
      "text/plain": [
       "6"
      ]
     },
     "execution_count": 21,
     "metadata": {},
     "output_type": "execute_result"
    }
   ],
   "source": [
    "def factorial(n):\n",
    "    if n==1:\n",
    "        return n\n",
    "    else:\n",
    "        return n*factorial(n-1)\n",
    "factorial(3)"
   ]
  },
  {
   "cell_type": "markdown",
   "metadata": {},
   "source": [
    "### Find Nth term of a fibonnaci Series"
   ]
  },
  {
   "cell_type": "code",
   "execution_count": 22,
   "metadata": {},
   "outputs": [
    {
     "data": {
      "text/plain": [
       "34"
      ]
     },
     "execution_count": 22,
     "metadata": {},
     "output_type": "execute_result"
    }
   ],
   "source": [
    "def fib(n):\n",
    "    if n==1:\n",
    "        return 0\n",
    "    elif n==2:\n",
    "        return 1\n",
    "    else:\n",
    "        return fib(n-1) + fib(n-2)\n",
    "    \n",
    "fib(10)"
   ]
  },
  {
   "cell_type": "markdown",
   "metadata": {},
   "source": [
    "### Calculate HCF of two  numbers"
   ]
  },
  {
   "cell_type": "code",
   "execution_count": 23,
   "metadata": {},
   "outputs": [
    {
     "data": {
      "text/plain": [
       "5"
      ]
     },
     "execution_count": 23,
     "metadata": {},
     "output_type": "execute_result"
    }
   ],
   "source": [
    "def hcf(x,y):\n",
    "    if y==0:\n",
    "        return x\n",
    "    else:\n",
    "        return hcf(y,x%y)\n",
    "    \n",
    "hcf(10,15)"
   ]
  },
  {
   "cell_type": "code",
   "execution_count": null,
   "metadata": {},
   "outputs": [],
   "source": []
  }
 ],
 "metadata": {
  "kernelspec": {
   "display_name": "Python 3",
   "language": "python",
   "name": "python3"
  },
  "language_info": {
   "codemirror_mode": {
    "name": "ipython",
    "version": 3
   },
   "file_extension": ".py",
   "mimetype": "text/x-python",
   "name": "python",
   "nbconvert_exporter": "python",
   "pygments_lexer": "ipython3",
   "version": "3.7.6"
  }
 },
 "nbformat": 4,
 "nbformat_minor": 4
}
