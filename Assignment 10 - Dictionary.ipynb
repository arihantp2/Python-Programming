{
 "cells": [
  {
   "cell_type": "markdown",
   "metadata": {},
   "source": [
    "# Topics: dict "
   ]
  },
  {
   "cell_type": "markdown",
   "metadata": {},
   "source": [
    "### 1. Write a python script to print dict items (KEY, VALUE), each in one line. "
   ]
  },
  {
   "cell_type": "code",
   "execution_count": 1,
   "metadata": {},
   "outputs": [
    {
     "name": "stdout",
     "output_type": "stream",
     "text": [
      "Key= 1 Value= A\n",
      "Key= 2 Value= B\n",
      "Key= 3 Value= c\n",
      "Key= 4 Value= D\n",
      "Key= 5 Value= E\n"
     ]
    }
   ],
   "source": [
    "d={1: 'A', 2: 'B', 3: 'c', 4: 'D', 5: 'E'}\n",
    "for k in d:\n",
    "    print(\"Key=\",k,\"Value=\",d[k])"
   ]
  },
  {
   "cell_type": "markdown",
   "metadata": {},
   "source": [
    "### 2. Write a python script to create a dictionary in which each item is a pair of Roll number(as KEY) and Student Name (as VALUE)."
   ]
  },
  {
   "cell_type": "code",
   "execution_count": 3,
   "metadata": {},
   "outputs": [
    {
     "name": "stdout",
     "output_type": "stream",
     "text": [
      "Roll No 1 Student name = Rahul\n",
      "Roll No 2 Student name = Ajij\n",
      "Roll No 3 Student name = Ganesh\n",
      "Roll No 4 Student name = Pratik\n"
     ]
    }
   ],
   "source": [
    "d={1:\"Rahul\",2:\"Ajij\",3:\"Ganesh\",4:\"Pratik\"}\n",
    "for k in d:\n",
    "    print(\"Roll No\",k,\"Student name =\",d[k])"
   ]
  },
  {
   "cell_type": "markdown",
   "metadata": {},
   "source": [
    "### 3. Write a python script to sort a dict according to KEY."
   ]
  },
  {
   "cell_type": "code",
   "execution_count": 8,
   "metadata": {},
   "outputs": [
    {
     "name": "stdout",
     "output_type": "stream",
     "text": [
      "OrderedDict([('rajnish', '9'), ('ravi', '10'), ('sanjeev', '15'), ('suraj', '32'), ('yash', '2')])\n"
     ]
    }
   ],
   "source": [
    "from collections import OrderedDict\n",
    " \n",
    "dict = {'ravi':'10','rajnish':'9','sanjeev':'15','yash':'2','suraj':'32'}\n",
    "dict1 = OrderedDict(sorted(dict.items()))\n",
    "print(dict1)"
   ]
  },
  {
   "cell_type": "markdown",
   "metadata": {},
   "source": [
    "### 4. Write a python script to sort a dict according to VALUE"
   ]
  },
  {
   "cell_type": "code",
   "execution_count": 15,
   "metadata": {},
   "outputs": [
    {
     "name": "stdout",
     "output_type": "stream",
     "text": [
      "enter pairs: 'a':10, 'b':20, 'c':30\n",
      "a --- 1\n",
      "b --- 2\n",
      "c --- 3\n"
     ]
    }
   ],
   "source": [
    "d = {eval(i[0:i.index(\":\")]):\n",
    "     i[i.index(\":\")+1] for i in input(\"enter pairs: \").split(\",\")}\n",
    "for v in sorted(d.values()):    \n",
    "    for k in d:        \n",
    "        if d[k]==v:            \n",
    "            print(k,\"---\",d[k])"
   ]
  },
  {
   "cell_type": "markdown",
   "metadata": {},
   "source": [
    "### 5. Write a python script to take dictionary from the keyboard and print the sum of values. "
   ]
  },
  {
   "cell_type": "code",
   "execution_count": 14,
   "metadata": {},
   "outputs": [
    {
     "name": "stdout",
     "output_type": "stream",
     "text": [
      "Enter a dict : {'a':10, 'b':20, 'c':30}\n",
      "60\n"
     ]
    }
   ],
   "source": [
    "print(sum(list(eval(input('Enter a dict : ')).values())))"
   ]
  },
  {
   "cell_type": "code",
   "execution_count": null,
   "metadata": {},
   "outputs": [],
   "source": []
  }
 ],
 "metadata": {
  "kernelspec": {
   "display_name": "Python 3",
   "language": "python",
   "name": "python3"
  },
  "language_info": {
   "codemirror_mode": {
    "name": "ipython",
    "version": 3
   },
   "file_extension": ".py",
   "mimetype": "text/x-python",
   "name": "python",
   "nbconvert_exporter": "python",
   "pygments_lexer": "ipython3",
   "version": "3.7.6"
  }
 },
 "nbformat": 4,
 "nbformat_minor": 4
}
