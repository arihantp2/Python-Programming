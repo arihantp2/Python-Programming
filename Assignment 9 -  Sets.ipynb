{
 "cells": [
  {
   "cell_type": "markdown",
   "metadata": {},
   "source": [
    "# Topics: set"
   ]
  },
  {
   "cell_type": "markdown",
   "metadata": {},
   "source": [
    "### 1. Write a python script to find out common elements between two sets. "
   ]
  },
  {
   "cell_type": "code",
   "execution_count": 1,
   "metadata": {},
   "outputs": [
    {
     "data": {
      "text/plain": [
       "{20, 30, 40}"
      ]
     },
     "execution_count": 1,
     "metadata": {},
     "output_type": "execute_result"
    }
   ],
   "source": [
    "s1={10,20,30,40,50}\n",
    "s2={20,30,40}\n",
    "s1.intersection(s2)"
   ]
  },
  {
   "cell_type": "markdown",
   "metadata": {},
   "source": [
    "### 2. Write a python script to create a set of first N prime numbers."
   ]
  },
  {
   "cell_type": "code",
   "execution_count": 2,
   "metadata": {},
   "outputs": [
    {
     "name": "stdout",
     "output_type": "stream",
     "text": [
      "How many prime numbers you want to generate? 25\n",
      "{2, 3, 5, 7, 11, 13, 17, 19, 23, 29, 31, 37, 41, 43, 47, 53, 59, 61, 67, 71, 73, 79, 83, 89, 97}\n"
     ]
    }
   ],
   "source": [
    "def nextPrime(num):\n",
    "    while True:\n",
    "        num+=1\n",
    "        for i in range(2,num):\n",
    "            if num%i==0:\n",
    "                break\n",
    "        else :\n",
    "            return num\n",
    "        \n",
    "def primeProducer(N): #generator\n",
    "    num,count=1,1\n",
    "    while count<=N:\n",
    "        num=nextPrime(num)\n",
    "        yield num\n",
    "        count +=1\n",
    "        \n",
    "N=int(input(\"How many prime numbers you want to generate? \"))\n",
    "l=[x for x in primeProducer(N)]\n",
    "print(set(l))\n",
    "    "
   ]
  },
  {
   "cell_type": "markdown",
   "metadata": {},
   "source": [
    "### 3. Write a python script to take union of two sets."
   ]
  },
  {
   "cell_type": "code",
   "execution_count": 3,
   "metadata": {},
   "outputs": [
    {
     "data": {
      "text/plain": [
       "{10, 20, 30, 40, 50, 60, 70, 80}"
      ]
     },
     "execution_count": 3,
     "metadata": {},
     "output_type": "execute_result"
    }
   ],
   "source": [
    "s1={10,20,30,40,50}\n",
    "s2={60,70,80}\n",
    "s1.union(s2)"
   ]
  },
  {
   "cell_type": "markdown",
   "metadata": {},
   "source": [
    "### 4. Write a python script to count elements of a set given by user."
   ]
  },
  {
   "cell_type": "code",
   "execution_count": 15,
   "metadata": {},
   "outputs": [
    {
     "name": "stdout",
     "output_type": "stream",
     "text": [
      "Enter Elements: 1,2,3,4,5,6\n"
     ]
    },
    {
     "data": {
      "text/plain": [
       "6"
      ]
     },
     "execution_count": 15,
     "metadata": {},
     "output_type": "execute_result"
    }
   ],
   "source": [
    "a=eval(input(\"Enter Elements: \")) #tuple\n",
    "len(set(a))  #tuple to set conversion and len for counting elements\n"
   ]
  },
  {
   "cell_type": "code",
   "execution_count": 17,
   "metadata": {},
   "outputs": [
    {
     "name": "stdout",
     "output_type": "stream",
     "text": [
      "Enter a Number for saparated by Comma =1,2,3,4,5,6\n",
      "Total Set of element = 6\n"
     ]
    }
   ],
   "source": [
    "s1={int(i)for i in input(\"Enter a Number for saparated by Comma =\").split(',')}\n",
    "print(\"Total Set of element =\",len(s1))"
   ]
  },
  {
   "cell_type": "markdown",
   "metadata": {},
   "source": [
    "### 5. Write a python script to count distinct elements in a list using set "
   ]
  },
  {
   "cell_type": "code",
   "execution_count": 18,
   "metadata": {},
   "outputs": [
    {
     "name": "stdout",
     "output_type": "stream",
     "text": [
      "Distinct elements in a list are 9\n"
     ]
    }
   ],
   "source": [
    "l=[1,2,2,3,3,3,4,4,5,2,1,6,7,8,4,5,9,6,5,5,]\n",
    "s=set(l)\n",
    "print(\"Distinct elements in a list are\",len(s))"
   ]
  },
  {
   "cell_type": "markdown",
   "metadata": {},
   "source": [
    "###  6. Write a python script to create a power set of a given set "
   ]
  },
  {
   "cell_type": "code",
   "execution_count": 21,
   "metadata": {},
   "outputs": [
    {
     "name": "stdout",
     "output_type": "stream",
     "text": [
      "\n",
      "x\n",
      "y\n",
      "z\n",
      "xy\n",
      "xz\n",
      "yz\n",
      "xyz\n"
     ]
    }
   ],
   "source": [
    "from itertools import combinations\n",
    "def powerset(string):\n",
    "    n = len(string)\n",
    "    for i in range(0,n+1):\n",
    "        for element in combinations(string,i):\n",
    "            print(''.join(element))\n",
    "string=['x','y','z']\n",
    "powerset(string)"
   ]
  },
  {
   "cell_type": "markdown",
   "metadata": {},
   "source": [
    "### 7. Write a python script to check whether a given set is a subset of another given set or not."
   ]
  },
  {
   "cell_type": "code",
   "execution_count": 28,
   "metadata": {},
   "outputs": [
    {
     "name": "stdout",
     "output_type": "stream",
     "text": [
      "X is a subset of Y? True\n",
      "Y is a subset of X? False\n"
     ]
    }
   ],
   "source": [
    "X = {1, 2, 3}\n",
    "Y = {1, 2, 3, 4}\n",
    "\n",
    "print(\"X is a subset of Y?\", X.issubset(Y))\n",
    "\n",
    "print(\"Y is a subset of X?\", Y.issubset(X))\n"
   ]
  },
  {
   "cell_type": "markdown",
   "metadata": {},
   "source": [
    "### 8. Write a python script to print all possible subsets of r elements each from a given set of N elements"
   ]
  },
  {
   "cell_type": "code",
   "execution_count": 27,
   "metadata": {},
   "outputs": [
    {
     "name": "stdout",
     "output_type": "stream",
     "text": [
      "Enter a set = 1,2,3\n",
      "Enter number of elemnts for subset = 2\n",
      "The subsets are :\n"
     ]
    },
    {
     "ename": "NameError",
     "evalue": "name 'lt' is not defined",
     "output_type": "error",
     "traceback": [
      "\u001b[1;31m---------------------------------------------------------------------------\u001b[0m",
      "\u001b[1;31mNameError\u001b[0m                                 Traceback (most recent call last)",
      "\u001b[1;32m<ipython-input-27-1ddc66a65fe6>\u001b[0m in \u001b[0;36m<module>\u001b[1;34m\u001b[0m\n\u001b[0;32m      8\u001b[0m \u001b[1;32mfor\u001b[0m \u001b[0mx\u001b[0m \u001b[1;32min\u001b[0m \u001b[0ml\u001b[0m\u001b[1;33m:\u001b[0m\u001b[1;33m\u001b[0m\u001b[1;33m\u001b[0m\u001b[0m\n\u001b[0;32m      9\u001b[0m     \u001b[0mz\u001b[0m\u001b[1;33m=\u001b[0m\u001b[0ml\u001b[0m\u001b[1;33m.\u001b[0m\u001b[0mindex\u001b[0m\u001b[1;33m(\u001b[0m\u001b[0mx\u001b[0m\u001b[1;33m)\u001b[0m\u001b[1;33m\u001b[0m\u001b[1;33m\u001b[0m\u001b[0m\n\u001b[1;32m---> 10\u001b[1;33m     \u001b[1;32mif\u001b[0m \u001b[0mz\u001b[0m\u001b[1;33m&\u001b[0m\u001b[0mlt\u001b[0m\u001b[1;33m!=\u001b[0m\u001b[1;33m(\u001b[0m\u001b[0mN\u001b[0m\u001b[1;33m-\u001b[0m\u001b[0mr\u001b[0m\u001b[1;33m)\u001b[0m\u001b[1;33m:\u001b[0m\u001b[1;33m\u001b[0m\u001b[1;33m\u001b[0m\u001b[0m\n\u001b[0m\u001b[0;32m     11\u001b[0m         \u001b[1;32mfor\u001b[0m \u001b[0my\u001b[0m \u001b[1;32min\u001b[0m \u001b[0mrange\u001b[0m\u001b[1;33m(\u001b[0m\u001b[0mr\u001b[0m\u001b[1;33m)\u001b[0m\u001b[1;33m:\u001b[0m\u001b[1;33m\u001b[0m\u001b[1;33m\u001b[0m\u001b[0m\n\u001b[0;32m     12\u001b[0m             \u001b[0ml1\u001b[0m\u001b[1;33m.\u001b[0m\u001b[0mappend\u001b[0m\u001b[1;33m(\u001b[0m\u001b[0ml\u001b[0m\u001b[1;33m[\u001b[0m\u001b[0mz\u001b[0m\u001b[1;33m+\u001b[0m\u001b[0mi\u001b[0m\u001b[1;33m]\u001b[0m\u001b[1;33m)\u001b[0m\u001b[1;33m\u001b[0m\u001b[1;33m\u001b[0m\u001b[0m\n",
      "\u001b[1;31mNameError\u001b[0m: name 'lt' is not defined"
     ]
    }
   ],
   "source": [
    "s=set(eval(input(\"Enter a set = \")))\n",
    "N=len(s)\n",
    "l=list(s)\n",
    "l1=[]\n",
    "r=int(input(\"Enter number of elemnts for subset = \"))\n",
    "i=0\n",
    "print(\"The subsets are :\")\n",
    "for x in l:      \n",
    "    z=l.index(x)      \n",
    "    if z&lt!=(N-r):            \n",
    "        for y in range(r):                   \n",
    "            l1.append(l[z+i])                   \n",
    "            i+=1           \n",
    "            s1=set(tuple(l1))            \n",
    "            print(s1)            "
   ]
  },
  {
   "cell_type": "markdown",
   "metadata": {},
   "source": [
    "### 9. Write a python script to find Cartesian product of two given sets"
   ]
  },
  {
   "cell_type": "code",
   "execution_count": 34,
   "metadata": {},
   "outputs": [
    {
     "name": "stdout",
     "output_type": "stream",
     "text": [
      "{1, 4}, {1, 5}, {1, 6}, {2, 4}, {2, 5}, {2, 6}, {3, 4}, {3, 5}, {3, 6}, "
     ]
    }
   ],
   "source": [
    "def findCart(arr1, arr2, n, n1):\n",
    " \n",
    "    for i in range(0,n):\n",
    "        for j in range(0,n1):\n",
    "            print(\"{\",arr1[i],\", \",arr2[j],\"}, \",sep=\"\",end=\"\")\n",
    " \n",
    "arr1 = [ 1, 2, 3 ] # first set\n",
    "arr2 = [ 4, 5, 6 ] # second set\n",
    " \n",
    "n1 = len(arr1) # sizeof(arr1[0])\n",
    "n2 = len(arr2) # sizeof(arr2[0]);\n",
    " \n",
    "findCart(arr1, arr2, n1, n2);\n",
    " \n"
   ]
  },
  {
   "cell_type": "markdown",
   "metadata": {},
   "source": [
    "### 10. Two sets represent two identical dices. (dice values are from 1 to 6). Write a python script to produce sample space to get a sum of dice values when rolled is N. N is given by user. "
   ]
  },
  {
   "cell_type": "code",
   "execution_count": 49,
   "metadata": {},
   "outputs": [
    {
     "name": "stdout",
     "output_type": "stream",
     "text": [
      "1 / 279936\n"
     ]
    }
   ],
   "source": [
    "# Python 3 implementation of above approach\n",
    "\n",
    "# from math import everything\n",
    "from math import *\n",
    "\n",
    "# function that calculates Probability.\n",
    "def Probability(sum, times) :\n",
    "\tfavorable, total, probability = 0.0, 36.0, 0\n",
    "\n",
    "\t# To calculate favorable outcomes\n",
    "\t# in thrown of 2 dices 1 times.\n",
    "\tfor i in range(7) :\n",
    "\t\tfor j in range(7) :\n",
    "\t\t\tif ((i + j) == sum) :\n",
    "\t\t\t\tfavorable += 1\n",
    "\n",
    "\tgcd1 = gcd(int(favorable), int(total))\n",
    "\n",
    "\t# Reduce to simplest Form.\n",
    "\tfavorable = favorable / gcd1\n",
    "\ttotal = total / gcd1\n",
    "\n",
    "\t# Probability of occurring sum on 2 dice N times.\n",
    "\tprobability = pow(total, times)\n",
    "\n",
    "\treturn int(probability)\n",
    "\n",
    "\n",
    "# Driver Code\n",
    "if __name__ == \"__main__\" :\n",
    "\n",
    "\tsum, times = 7, 7\n",
    "\n",
    "\tprint(\"1\",\"/\",Probability(sum, times))\n",
    "\n"
   ]
  },
  {
   "cell_type": "code",
   "execution_count": null,
   "metadata": {},
   "outputs": [],
   "source": []
  }
 ],
 "metadata": {
  "kernelspec": {
   "display_name": "Python 3",
   "language": "python",
   "name": "python3"
  },
  "language_info": {
   "codemirror_mode": {
    "name": "ipython",
    "version": 3
   },
   "file_extension": ".py",
   "mimetype": "text/x-python",
   "name": "python",
   "nbconvert_exporter": "python",
   "pygments_lexer": "ipython3",
   "version": "3.7.6"
  }
 },
 "nbformat": 4,
 "nbformat_minor": 4
}
