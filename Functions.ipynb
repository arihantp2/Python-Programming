{
 "cells": [
  {
   "cell_type": "markdown",
   "metadata": {},
   "source": [
    "# Topic - Functions"
   ]
  },
  {
   "cell_type": "markdown",
   "metadata": {},
   "source": [
    "Function is a block of code\n",
    "\n",
    "Function has some name resuability"
   ]
  },
  {
   "cell_type": "code",
   "execution_count": 1,
   "metadata": {},
   "outputs": [],
   "source": [
    "def add():\n",
    "    a=int(input(\"Enter First Number: \"))\n",
    "    b=int(input(\"Enter Second number: \"))\n",
    "    print(\"Sum of numbers is\",a+b)"
   ]
  },
  {
   "cell_type": "code",
   "execution_count": 2,
   "metadata": {},
   "outputs": [
    {
     "name": "stdout",
     "output_type": "stream",
     "text": [
      "Enter First Number: 10\n",
      "Enter Second number: 10\n",
      "Sum of numbers is 20\n"
     ]
    }
   ],
   "source": [
    "add()"
   ]
  },
  {
   "cell_type": "code",
   "execution_count": 3,
   "metadata": {},
   "outputs": [
    {
     "name": "stdout",
     "output_type": "stream",
     "text": [
      "This is the first line\n",
      "Enter First Number: 46\n",
      "Enter Second number: 87\n",
      "Sum is 133\n",
      "This is the line after first call after function\n",
      "Enter First Number: 65\n",
      "Enter Second number: 46\n",
      "Sum is 111\n"
     ]
    }
   ],
   "source": [
    "def add():\n",
    "    a=int(input(\"Enter First Number: \"))\n",
    "    b=int(input(\"Enter Second number: \"))\n",
    "    c=a+b\n",
    "    print(\"Sum is\",c)\n",
    "print(\"This is the first line\")\n",
    "add()\n",
    "print(\"This is the line after first call after function\")\n",
    "add()"
   ]
  },
  {
   "cell_type": "markdown",
   "metadata": {},
   "source": [
    "### Types of functions :- \n",
    "\n",
    "1) pre defined\n",
    "2) user defined\n"
   ]
  },
  {
   "cell_type": "markdown",
   "metadata": {},
   "source": [
    "### Ways to define function\n",
    "\n",
    "1)Takes nothing, Returns nothing\n",
    "\n",
    "2)Takes something, Returns nothing\n",
    "\n",
    "3)Takes nothing, Returns something\n",
    "\n",
    "4)Takes something, Returns something"
   ]
  },
  {
   "cell_type": "code",
   "execution_count": 5,
   "metadata": {},
   "outputs": [
    {
     "name": "stdout",
     "output_type": "stream",
     "text": [
      "Enter two numbers\n",
      "2\n",
      "3\n",
      "sum is 5\n"
     ]
    }
   ],
   "source": [
    "#Takes nothing, returns nothing\n",
    "#parenthesis empty = takes nothing \n",
    "#no use of return keyword so returns nothing\n",
    "def add():\n",
    "    print(\"Enter two numbers\")\n",
    "    a=int(input())\n",
    "    b=int(input())\n",
    "    s=a+b  #a,b,s are local variables which will use in this function only\n",
    "    print(\"sum is\",s)\n",
    "add() #function call"
   ]
  },
  {
   "cell_type": "code",
   "execution_count": 6,
   "metadata": {},
   "outputs": [
    {
     "name": "stdout",
     "output_type": "stream",
     "text": [
      "Sum is 30\n"
     ]
    }
   ],
   "source": [
    "#Takes something, Returns nothing\n",
    "#takes something because we are directly giving variables into paranthesis\n",
    "\n",
    "def add(a,b): # a and b are formal arguments\n",
    "    s=a+b\n",
    "    print(\"Sum is\",s)\n",
    "add(10,20)     #function call..... here 10 and 20 are actual arguments"
   ]
  },
  {
   "cell_type": "code",
   "execution_count": 7,
   "metadata": {},
   "outputs": [
    {
     "name": "stdout",
     "output_type": "stream",
     "text": [
      "Enter two numbers\n",
      "5\n",
      "6\n",
      "x= 11\n"
     ]
    }
   ],
   "source": [
    "#Takes nothing, Returns something\n",
    "def add():\n",
    "    print(\"Enter two numbers\")\n",
    "    a=int(input())\n",
    "    b=int(input())\n",
    "    s=a+b  \n",
    "    return s \n",
    "x=add() #\n",
    "print(\"x=\",x)"
   ]
  },
  {
   "cell_type": "code",
   "execution_count": 9,
   "metadata": {},
   "outputs": [
    {
     "name": "stdout",
     "output_type": "stream",
     "text": [
      "Sum is= 25\n"
     ]
    }
   ],
   "source": [
    "#Takes something, Returns something\n",
    "def add(a,b):\n",
    "    s=a+b  \n",
    "    return s \n",
    "x=add(10,15) \n",
    "print(\"Sum is=\",x)"
   ]
  },
  {
   "cell_type": "code",
   "execution_count": 10,
   "metadata": {},
   "outputs": [
    {
     "name": "stdout",
     "output_type": "stream",
     "text": [
      "Hello World!\n"
     ]
    }
   ],
   "source": [
    "def f1():\n",
    "    print(\"Hello World!\")\n",
    "f1()"
   ]
  },
  {
   "cell_type": "code",
   "execution_count": 11,
   "metadata": {},
   "outputs": [
    {
     "name": "stdout",
     "output_type": "stream",
     "text": [
      "Hello \n",
      "None - <class 'NoneType'>\n"
     ]
    }
   ],
   "source": [
    "# when function returns nothing it returns none\n",
    "def f1():\n",
    "    print(\"Hello \")\n",
    "x=f1()\n",
    "print(x,\"-\",type(x))"
   ]
  },
  {
   "cell_type": "markdown",
   "metadata": {},
   "source": [
    "### Default Arguments"
   ]
  },
  {
   "cell_type": "code",
   "execution_count": 13,
   "metadata": {},
   "outputs": [
    {
     "name": "stdout",
     "output_type": "stream",
     "text": [
      "sum is 30\n"
     ]
    },
    {
     "ename": "TypeError",
     "evalue": "sum() takes 2 positional arguments but 3 were given",
     "output_type": "error",
     "traceback": [
      "\u001b[1;31m---------------------------------------------------------------------------\u001b[0m",
      "\u001b[1;31mTypeError\u001b[0m                                 Traceback (most recent call last)",
      "\u001b[1;32m<ipython-input-13-8158d8647142>\u001b[0m in \u001b[0;36m<module>\u001b[1;34m\u001b[0m\n\u001b[0;32m      3\u001b[0m     \u001b[0mprint\u001b[0m\u001b[1;33m(\u001b[0m\u001b[1;34m\"sum is\"\u001b[0m\u001b[1;33m,\u001b[0m\u001b[0ms\u001b[0m\u001b[1;33m)\u001b[0m\u001b[1;33m\u001b[0m\u001b[1;33m\u001b[0m\u001b[0m\n\u001b[0;32m      4\u001b[0m \u001b[0msum\u001b[0m\u001b[1;33m(\u001b[0m\u001b[1;36m10\u001b[0m\u001b[1;33m,\u001b[0m\u001b[1;36m20\u001b[0m\u001b[1;33m)\u001b[0m\u001b[1;33m\u001b[0m\u001b[1;33m\u001b[0m\u001b[0m\n\u001b[1;32m----> 5\u001b[1;33m \u001b[0msum\u001b[0m\u001b[1;33m(\u001b[0m\u001b[1;36m10\u001b[0m\u001b[1;33m,\u001b[0m\u001b[1;36m20\u001b[0m\u001b[1;33m,\u001b[0m\u001b[1;36m30\u001b[0m\u001b[1;33m)\u001b[0m\u001b[1;33m\u001b[0m\u001b[1;33m\u001b[0m\u001b[0m\n\u001b[0m",
      "\u001b[1;31mTypeError\u001b[0m: sum() takes 2 positional arguments but 3 were given"
     ]
    }
   ],
   "source": [
    "def sum(a,b):\n",
    "    s=a+b\n",
    "    print(\"sum is\",s)\n",
    "sum(10,20)\n",
    "sum(10,20,30)"
   ]
  },
  {
   "cell_type": "code",
   "execution_count": 14,
   "metadata": {},
   "outputs": [
    {
     "name": "stdout",
     "output_type": "stream",
     "text": [
      "sum is 30\n",
      "sum is 60\n"
     ]
    }
   ],
   "source": [
    "def sum(a,b,c=0):\n",
    "    s=a+b+c\n",
    "    print(\"sum is\",s)\n",
    "sum(10,20)\n",
    "sum(10,20,30)"
   ]
  },
  {
   "cell_type": "code",
   "execution_count": 15,
   "metadata": {},
   "outputs": [
    {
     "name": "stdout",
     "output_type": "stream",
     "text": [
      "sum is 10\n",
      "sum is 30\n",
      "sum is 60\n"
     ]
    }
   ],
   "source": [
    "def sum(a,b=0,c=0): # 0 is default value for variable\n",
    "    s=a+b+c\n",
    "    print(\"sum is\",s)\n",
    "sum(10)\n",
    "sum(10,20)\n",
    "sum(10,20,30)"
   ]
  },
  {
   "cell_type": "code",
   "execution_count": 17,
   "metadata": {},
   "outputs": [
    {
     "name": "stdout",
     "output_type": "stream",
     "text": [
      "sum is 0\n",
      "sum is 10\n",
      "sum is 30\n",
      "sum is 60\n"
     ]
    }
   ],
   "source": [
    "def sum(a=0,b=0,c=0): # her a ,b and c all are default arguments\n",
    "    s=a+b+c\n",
    "    print(\"sum is\",s)\n",
    "sum()\n",
    "sum(10)\n",
    "sum(10,20)\n",
    "sum(10,20,30)"
   ]
  },
  {
   "cell_type": "markdown",
   "metadata": {},
   "source": [
    "### keyword Arguments"
   ]
  },
  {
   "cell_type": "code",
   "execution_count": 20,
   "metadata": {},
   "outputs": [
    {
     "name": "stdout",
     "output_type": "stream",
     "text": [
      "a= 10 b= 20\n",
      "a= 20 b= 10\n"
     ]
    }
   ],
   "source": [
    "def f1(a,b):\n",
    "    print(\"a=\",a,\"b=\",b) #positional arguments\n",
    "f1(10,20)\n",
    "f1(20,10)"
   ]
  },
  {
   "cell_type": "code",
   "execution_count": 21,
   "metadata": {},
   "outputs": [
    {
     "name": "stdout",
     "output_type": "stream",
     "text": [
      "a= 10 b= 20\n"
     ]
    }
   ],
   "source": [
    "f1(b=20,a=10)   #keyword arguments"
   ]
  },
  {
   "cell_type": "code",
   "execution_count": 23,
   "metadata": {},
   "outputs": [
    {
     "name": "stdout",
     "output_type": "stream",
     "text": [
      "a= 20 b= 10\n"
     ]
    }
   ],
   "source": [
    "f1(20,b=10) "
   ]
  },
  {
   "cell_type": "code",
   "execution_count": 24,
   "metadata": {},
   "outputs": [
    {
     "ename": "SyntaxError",
     "evalue": "positional argument follows keyword argument (<ipython-input-24-d8505d5f5f9f>, line 1)",
     "output_type": "error",
     "traceback": [
      "\u001b[1;36m  File \u001b[1;32m\"<ipython-input-24-d8505d5f5f9f>\"\u001b[1;36m, line \u001b[1;32m1\u001b[0m\n\u001b[1;33m    f1(b=20,10)\u001b[0m\n\u001b[1;37m           ^\u001b[0m\n\u001b[1;31mSyntaxError\u001b[0m\u001b[1;31m:\u001b[0m positional argument follows keyword argument\n"
     ]
    }
   ],
   "source": [
    "f1(b=20,10)  #first keyword then positional not allowed so it will shows error"
   ]
  },
  {
   "cell_type": "code",
   "execution_count": 25,
   "metadata": {},
   "outputs": [
    {
     "ename": "TypeError",
     "evalue": "f1() got multiple values for argument 'a'",
     "output_type": "error",
     "traceback": [
      "\u001b[1;31m---------------------------------------------------------------------------\u001b[0m",
      "\u001b[1;31mTypeError\u001b[0m                                 Traceback (most recent call last)",
      "\u001b[1;32m<ipython-input-25-c25715a58d0c>\u001b[0m in \u001b[0;36m<module>\u001b[1;34m\u001b[0m\n\u001b[1;32m----> 1\u001b[1;33m \u001b[0mf1\u001b[0m\u001b[1;33m(\u001b[0m\u001b[1;36m20\u001b[0m\u001b[1;33m,\u001b[0m\u001b[0ma\u001b[0m\u001b[1;33m=\u001b[0m\u001b[1;36m10\u001b[0m\u001b[1;33m)\u001b[0m\u001b[1;33m\u001b[0m\u001b[1;33m\u001b[0m\u001b[0m\n\u001b[0m",
      "\u001b[1;31mTypeError\u001b[0m: f1() got multiple values for argument 'a'"
     ]
    }
   ],
   "source": [
    "f1(20,a=10) "
   ]
  },
  {
   "cell_type": "code",
   "execution_count": null,
   "metadata": {},
   "outputs": [],
   "source": []
  },
  {
   "cell_type": "code",
   "execution_count": 26,
   "metadata": {},
   "outputs": [
    {
     "name": "stdout",
     "output_type": "stream",
     "text": [
      "Average is 15.0\n"
     ]
    }
   ],
   "source": [
    "def avg(a,b):\n",
    "    return (a+b)/2\n",
    "x=avg(10,20)\n",
    "print(\"Average is\",x)"
   ]
  },
  {
   "cell_type": "code",
   "execution_count": 28,
   "metadata": {},
   "outputs": [
    {
     "name": "stdout",
     "output_type": "stream",
     "text": [
      "Average is 20.0\n"
     ]
    }
   ],
   "source": [
    "def avg(a,b,c):\n",
    "    return (a+b+c)/3\n",
    "x=avg(10,20,30)\n",
    "print(\"Average is\",x)"
   ]
  },
  {
   "cell_type": "code",
   "execution_count": 32,
   "metadata": {},
   "outputs": [
    {
     "name": "stdout",
     "output_type": "stream",
     "text": [
      "Average is 20.0\n"
     ]
    }
   ],
   "source": [
    "def avg(*n):   #variable length arguments\n",
    "    s=0\n",
    "    for x in n:\n",
    "        s=s+x\n",
    "    return s/len(n)\n",
    "    \n",
    "x=avg(10,20,30)\n",
    "print(\"Average is\",x)\n",
    "    \n"
   ]
  },
  {
   "cell_type": "code",
   "execution_count": 33,
   "metadata": {},
   "outputs": [
    {
     "name": "stdout",
     "output_type": "stream",
     "text": [
      "Average is No Elements\n"
     ]
    }
   ],
   "source": [
    "def avg(*n):   \n",
    "    s=0\n",
    "    for x in n:\n",
    "        s=s+x\n",
    "    if len(n)!=0:\n",
    "        return s/len(n)\n",
    "    return \"No Elements\"\n",
    "    \n",
    "x=avg()\n",
    "print(\"Average is\",x)\n",
    "    "
   ]
  },
  {
   "cell_type": "code",
   "execution_count": 35,
   "metadata": {},
   "outputs": [
    {
     "name": "stdout",
     "output_type": "stream",
     "text": [
      "Ajay Total Points is 60\n"
     ]
    }
   ],
   "source": [
    "def f1(playername,*points):\n",
    "    print(playername,end=' ')\n",
    "    s=0\n",
    "    for x in points:\n",
    "        s=s+x\n",
    "    print(\"Total Points is\",s)\n",
    "    \n",
    "f1(\"Ajay\",10,20,30)"
   ]
  },
  {
   "cell_type": "markdown",
   "metadata": {},
   "source": [
    "Variable length keyword Arguments"
   ]
  },
  {
   "cell_type": "code",
   "execution_count": 41,
   "metadata": {},
   "outputs": [
    {
     "name": "stdout",
     "output_type": "stream",
     "text": [
      "Person Information\n",
      "name - Sameer\n",
      "age - 21\n",
      "Person Information\n",
      "name - Rahul\n",
      "marks - 87\n",
      "age - 23\n",
      "Person Information\n",
      "name - Ajay\n",
      "empid - 125\n",
      "salary - 35000.0\n"
     ]
    }
   ],
   "source": [
    "def f1(**k):\n",
    "    print(\"Person Information\")\n",
    "    for key,value in k.items():\n",
    "        print(key,\"-\",value)\n",
    "\n",
    "f1(name=\"Sameer\",age=21)\n",
    "f1(name=\"Rahul\",marks=87,age=23)\n",
    "f1(name=\"Ajay\",empid=125,salary=35000.0)"
   ]
  },
  {
   "cell_type": "code",
   "execution_count": null,
   "metadata": {},
   "outputs": [],
   "source": []
  }
 ],
 "metadata": {
  "kernelspec": {
   "display_name": "Python 3",
   "language": "python",
   "name": "python3"
  },
  "language_info": {
   "codemirror_mode": {
    "name": "ipython",
    "version": 3
   },
   "file_extension": ".py",
   "mimetype": "text/x-python",
   "name": "python",
   "nbconvert_exporter": "python",
   "pygments_lexer": "ipython3",
   "version": "3.7.6"
  }
 },
 "nbformat": 4,
 "nbformat_minor": 4
}
