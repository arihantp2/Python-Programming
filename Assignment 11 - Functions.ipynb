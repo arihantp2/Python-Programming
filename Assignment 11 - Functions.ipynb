{
 "cells": [
  {
   "cell_type": "markdown",
   "metadata": {},
   "source": [
    "### 1. Write a python function to calculate LCM of two numbers. (Takes Something, Return Something)"
   ]
  },
  {
   "cell_type": "code",
   "execution_count": 3,
   "metadata": {},
   "outputs": [
    {
     "name": "stdout",
     "output_type": "stream",
     "text": [
      "60\n"
     ]
    }
   ],
   "source": [
    "def lcm_of_two_nums(a,b):\n",
    "    if a>b:\n",
    "        maximum = a\n",
    "    else:\n",
    "        maximum = b\n",
    "    while True:\n",
    "        if maximum % a == 0 and maximum % b == 0:\n",
    "            lcm=maximum\n",
    "            break\n",
    "        maximum = maximum + 1\n",
    "    return lcm\n",
    "lcm = lcm_of_two_nums(15,20)\n",
    "print(lcm)"
   ]
  },
  {
   "cell_type": "markdown",
   "metadata": {},
   "source": [
    "### 2. Write a python function to print reverse of a binary representation of a given number. ((Takes Something, Return Nothing)"
   ]
  },
  {
   "cell_type": "code",
   "execution_count": 13,
   "metadata": {},
   "outputs": [
    {
     "data": {
      "text/plain": [
       "'00101b0'"
      ]
     },
     "execution_count": 13,
     "metadata": {},
     "output_type": "execute_result"
    }
   ],
   "source": [
    "def rev_bin(n):\n",
    "    x=bin(n)\n",
    "    return x[::-1]\n",
    "    \n",
    "rev_bin(20)\n",
    "    \n",
    "    \n",
    "\n"
   ]
  },
  {
   "cell_type": "markdown",
   "metadata": {},
   "source": [
    "### 3. Write a python function to print first N prime numbers. (Takes Something, Return Nothing)"
   ]
  },
  {
   "cell_type": "code",
   "execution_count": 20,
   "metadata": {},
   "outputs": [
    {
     "name": "stdout",
     "output_type": "stream",
     "text": [
      "1 2 3 5 7 11 13 17 19 23 29 31 37 41 43 47 "
     ]
    }
   ],
   "source": [
    "def first_natural_nums(n):\n",
    "    for i in range(1,n):\n",
    "        for x in range(2,i):\n",
    "            if i%x==0:\n",
    "                break\n",
    "        else:\n",
    "            print(i,end=\" \")\n",
    "\n",
    "first_natural_nums(50)\n",
    "        "
   ]
  },
  {
   "cell_type": "markdown",
   "metadata": {},
   "source": [
    "### 4. Write a python function to count words in a given string. (Takes Something Returns Something)"
   ]
  },
  {
   "cell_type": "code",
   "execution_count": 36,
   "metadata": {},
   "outputs": [
    {
     "data": {
      "text/plain": [
       "5"
      ]
     },
     "execution_count": 36,
     "metadata": {},
     "output_type": "execute_result"
    }
   ],
   "source": [
    "def count_words(words):\n",
    "    x=len(words.split())\n",
    "    return x\n",
    "count_words(\"Aruu is a good boy\")\n"
   ]
  },
  {
   "cell_type": "markdown",
   "metadata": {},
   "source": [
    "### 5. Write a python function to calculate sum of all even numbers and sum of all odd numbers from a given list of int values. (Takes Something, Return Something)"
   ]
  },
  {
   "cell_type": "code",
   "execution_count": 70,
   "metadata": {},
   "outputs": [
    {
     "name": "stdout",
     "output_type": "stream",
     "text": [
      "Enter list elements seperated by comma: 1,2,3,4,5,6,7,8,9,10\n",
      "Sum of even and odd elements of [1, 2, 3, 4, 5, 6, 7, 8, 9, 10] = 30,25\n"
     ]
    }
   ],
   "source": [
    "def sum(l:list):\n",
    "        sum_ev=0\n",
    "        sum_od=0\n",
    "        for i in l:\n",
    "            if i%2==0:\n",
    "                sum_ev+=i\n",
    "            else:\n",
    "                sum_od+=i\n",
    "        return (sum_ev,sum_od)\n",
    "l1=[eval(x) for x in input('Enter list elements seperated by comma: ').split(',')]\n",
    "se,so = sum(l1)    \n",
    "print('Sum of even and odd elements of %s = %d,%d'%(l1,se,so))"
   ]
  },
  {
   "cell_type": "markdown",
   "metadata": {},
   "source": [
    "### 6. Write a python function to find all possible combinations one can make from N items of a given set when two elements are selected at a time. (Take a set of values, Return list of sets) "
   ]
  },
  {
   "cell_type": "code",
   "execution_count": 55,
   "metadata": {},
   "outputs": [
    {
     "data": {
      "text/plain": [
       "list"
      ]
     },
     "execution_count": 55,
     "metadata": {},
     "output_type": "execute_result"
    }
   ],
   "source": [
    "def sum(*p):\n",
    "    odd = 0\n",
    "    even = 0\n",
    "    list = []\n",
    "    for x in p:\n",
    "        if (x % 2 == 0): \n",
    "            even+=x\n",
    "             \n",
    "            if (x%2 !=0):\n",
    "                odd+=x #get out of for loop\n",
    "                list.append(odd)\n",
    "                list.append(even)\n",
    "                return list\n",
    "sum(1,2,3,4,5,6,7,8,9,10)\n",
    "list"
   ]
  },
  {
   "cell_type": "code",
   "execution_count": 64,
   "metadata": {},
   "outputs": [
    {
     "name": "stdout",
     "output_type": "stream",
     "text": [
      "2\n",
      "6\n",
      "12\n",
      "20\n"
     ]
    }
   ],
   "source": [
    "p=[1,2,3,4,5,6,7,8,9]\n",
    "odd = 0\n",
    "even = 0\n",
    "list = []\n",
    "for x in p:\n",
    "    if (x % 2 == 0): \n",
    "        even+=x\n",
    "        print(even)\n",
    "    "
   ]
  },
  {
   "cell_type": "markdown",
   "metadata": {},
   "source": [
    "### 7. Write a python function to find Nth term of Fibonacci series. (Takes Something, Return Something) "
   ]
  },
  {
   "cell_type": "code",
   "execution_count": 49,
   "metadata": {},
   "outputs": [
    {
     "data": {
      "text/plain": [
       "34"
      ]
     },
     "execution_count": 49,
     "metadata": {},
     "output_type": "execute_result"
    }
   ],
   "source": [
    "def Fibonacci(n):\n",
    "    if n<=0:\n",
    "        print(\"Incorrect Output\")\n",
    "    elif n==1:\n",
    "        return 0\n",
    "    elif n==2:\n",
    "        return 1\n",
    "    else:\n",
    "        return Fibonacci(n-1)+Fibonacci(n-2)\n",
    "    \n",
    "Fibonacci(10)"
   ]
  },
  {
   "cell_type": "markdown",
   "metadata": {},
   "source": [
    "### 8. Write a python function to find next prime number of a given number. (Takes Something, Return Something)"
   ]
  },
  {
   "cell_type": "code",
   "execution_count": 37,
   "metadata": {},
   "outputs": [
    {
     "data": {
      "text/plain": [
       "7"
      ]
     },
     "execution_count": 37,
     "metadata": {},
     "output_type": "execute_result"
    }
   ],
   "source": [
    "def nextPrime(num):\n",
    "    while True:\n",
    "        num+=1\n",
    "        for i in range(2,num):\n",
    "            if num%i==0:\n",
    "                break\n",
    "        else :\n",
    "            return num\n",
    "        \n",
    "nextPrime(5)"
   ]
  },
  {
   "cell_type": "markdown",
   "metadata": {},
   "source": [
    "### 9. Write a python function which takes a list of strings as an argument and returns a dictionary whose each item is a pair of alphabet (as key) and list of strings begin with that alphabet.\n"
   ]
  },
  {
   "cell_type": "code",
   "execution_count": 67,
   "metadata": {},
   "outputs": [
    {
     "name": "stdout",
     "output_type": "stream",
     "text": [
      "Enter elements of list: abc,def,ghi,jkl\n",
      "{'a': ['abc'], 'd': ['def'], 'g': ['ghi'], 'j': ['jkl']}\n"
     ]
    }
   ],
   "source": [
    "def dictionary(l:list):\n",
    "        result={}\n",
    "        for word in l:\n",
    "            char=word[0]\n",
    "            if char in result:\n",
    "                result[char].append(word)\n",
    "            else:\n",
    "                result[char]=[word]\n",
    "        return result\n",
    "lst=[x for x in input('Enter elements of list: ').split(',')]\n",
    "k=dictionary(lst)\n",
    "print(k)"
   ]
  },
  {
   "cell_type": "markdown",
   "metadata": {},
   "source": [
    "### 10. Write a python function which takes a tuple of int values and returns a dictionary whose each item is a pair of int value and its frequency in the tuple. "
   ]
  },
  {
   "cell_type": "code",
   "execution_count": 69,
   "metadata": {},
   "outputs": [
    {
     "name": "stdout",
     "output_type": "stream",
     "text": [
      "Enter integer elements of tuple seperated by comma: 1,2,4,3,2,3,3,3,4,5,5\n",
      "{1: 1, 2: 2, 4: 2, 3: 4, 5: 2}\n"
     ]
    }
   ],
   "source": [
    "def d(n:tuple):\n",
    "        result={}\n",
    "        for i in n:\n",
    "            rep=n.count(i)\n",
    "            if i not in result:\n",
    "                result[i]=rep\n",
    "        return result\n",
    "t=[int(x) for x in input('Enter integer elements of tuple seperated by comma: ').split(',')]\n",
    "dict=d(t)\n",
    "print(dict)\n"
   ]
  },
  {
   "cell_type": "code",
   "execution_count": null,
   "metadata": {},
   "outputs": [],
   "source": []
  }
 ],
 "metadata": {
  "kernelspec": {
   "display_name": "Python 3",
   "language": "python",
   "name": "python3"
  },
  "language_info": {
   "codemirror_mode": {
    "name": "ipython",
    "version": 3
   },
   "file_extension": ".py",
   "mimetype": "text/x-python",
   "name": "python",
   "nbconvert_exporter": "python",
   "pygments_lexer": "ipython3",
   "version": "3.7.6"
  }
 },
 "nbformat": 4,
 "nbformat_minor": 4
}
