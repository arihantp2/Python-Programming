{
 "cells": [
  {
   "cell_type": "markdown",
   "metadata": {},
   "source": [
    "## break"
   ]
  },
  {
   "cell_type": "code",
   "execution_count": 1,
   "metadata": {},
   "outputs": [
    {
     "name": "stdout",
     "output_type": "stream",
     "text": [
      "Enter an even number 1\n",
      "Enter an even number 2\n",
      "You Win\n"
     ]
    }
   ],
   "source": [
    "chance=1\n",
    "while chance<=3:\n",
    "    x=int(input(\"Enter an even number \"))\n",
    "    if x%2==0:\n",
    "        break\n",
    "    chance+=1\n",
    "if chance==4:\n",
    "    print(\"You Lost\")\n",
    "else:\n",
    "    print(\"You Win\")"
   ]
  },
  {
   "cell_type": "markdown",
   "metadata": {},
   "source": [
    "## Continue"
   ]
  },
  {
   "cell_type": "code",
   "execution_count": 2,
   "metadata": {},
   "outputs": [
    {
     "name": "stdout",
     "output_type": "stream",
     "text": [
      "1\n",
      "2\n",
      "3\n",
      "4\n",
      "6\n",
      "7\n",
      "8\n",
      "9\n",
      "11\n",
      "12\n",
      "13\n",
      "14\n",
      "16\n",
      "17\n",
      "18\n",
      "19\n",
      "21\n",
      "22\n",
      "23\n"
     ]
    }
   ],
   "source": [
    "x=1\n",
    "while x<24:\n",
    "    if x%5==0:\n",
    "        x=x+1\n",
    "        continue\n",
    "    print(x)\n",
    "    x=x+1"
   ]
  },
  {
   "cell_type": "markdown",
   "metadata": {},
   "source": [
    "## pass"
   ]
  },
  {
   "cell_type": "code",
   "execution_count": 3,
   "metadata": {},
   "outputs": [
    {
     "name": "stdout",
     "output_type": "stream",
     "text": [
      "0\n"
     ]
    }
   ],
   "source": [
    "x=0\n",
    "if x==0:\n",
    "    print(x)"
   ]
  },
  {
   "cell_type": "code",
   "execution_count": 4,
   "metadata": {},
   "outputs": [
    {
     "ename": "IndentationError",
     "evalue": "expected an indented block (<ipython-input-4-35fdb49116b6>, line 3)",
     "output_type": "error",
     "traceback": [
      "\u001b[1;36m  File \u001b[1;32m\"<ipython-input-4-35fdb49116b6>\"\u001b[1;36m, line \u001b[1;32m3\u001b[0m\n\u001b[1;33m    print(x)\u001b[0m\n\u001b[1;37m        ^\u001b[0m\n\u001b[1;31mIndentationError\u001b[0m\u001b[1;31m:\u001b[0m expected an indented block\n"
     ]
    }
   ],
   "source": [
    "x=0\n",
    "if x==0:\n",
    "print(x)"
   ]
  },
  {
   "cell_type": "code",
   "execution_count": 6,
   "metadata": {},
   "outputs": [
    {
     "name": "stdout",
     "output_type": "stream",
     "text": [
      "Hello\n"
     ]
    }
   ],
   "source": [
    "x=0\n",
    "if x==0:\n",
    "    pass\n",
    "print(\"Hello\")"
   ]
  },
  {
   "cell_type": "markdown",
   "metadata": {},
   "source": [
    "## while-else"
   ]
  },
  {
   "cell_type": "code",
   "execution_count": 7,
   "metadata": {},
   "outputs": [
    {
     "name": "stdout",
     "output_type": "stream",
     "text": [
      "Enter an Even number3\n",
      "Enter an Even number2\n",
      "You Win\n"
     ]
    }
   ],
   "source": [
    "i=1\n",
    "while i <=3:\n",
    "    x=int(input(\"Enter an Even number\"))\n",
    "    if x%2==0:\n",
    "        print(\"You Win\")\n",
    "        break\n",
    "    i=i+1\n",
    "else:\n",
    "    print(\"you lost\")"
   ]
  },
  {
   "cell_type": "markdown",
   "metadata": {},
   "source": [
    "## for-else"
   ]
  },
  {
   "cell_type": "code",
   "execution_count": 11,
   "metadata": {},
   "outputs": [
    {
     "name": "stdout",
     "output_type": "stream",
     "text": [
      "Enter an smaller number 10\n",
      "Enter an greater number 20\n",
      "11 is prime in range\n",
      "13 is prime in range\n",
      "17 is prime in range\n",
      "19 is prime in range\n"
     ]
    }
   ],
   "source": [
    "a=int(input(\"Enter an smaller number \"))\n",
    "b=int(input(\"Enter an greater number \"))\n",
    "s=range(a,b)\n",
    "i=2\n",
    "for x in s:\n",
    "    for num in range(2,x):\n",
    "        if x%num==0:\n",
    "            break\n",
    "    else:\n",
    "        print(x,\"is prime in range\")\n",
    "    "
   ]
  },
  {
   "cell_type": "code",
   "execution_count": 13,
   "metadata": {},
   "outputs": [
    {
     "name": "stdout",
     "output_type": "stream",
     "text": [
      "Enter an Smaller number 10\n",
      "Enter an greater number 20\n",
      "11 is prime in range\n"
     ]
    }
   ],
   "source": [
    "a=int(input(\"Enter an Smaller number \"))\n",
    "b=int(input(\"Enter an greater number \"))\n",
    "s=range(a,b)\n",
    "i=2\n",
    "for x in s:\n",
    "    for num in range(2,x):\n",
    "        if x%num==0:\n",
    "            break\n",
    "    else:\n",
    "        print(x,\"is prime in range\")\n",
    "        break"
   ]
  },
  {
   "cell_type": "code",
   "execution_count": null,
   "metadata": {},
   "outputs": [],
   "source": []
  },
  {
   "cell_type": "code",
   "execution_count": null,
   "metadata": {},
   "outputs": [],
   "source": []
  }
 ],
 "metadata": {
  "kernelspec": {
   "display_name": "Python 3",
   "language": "python",
   "name": "python3"
  },
  "language_info": {
   "codemirror_mode": {
    "name": "ipython",
    "version": 3
   },
   "file_extension": ".py",
   "mimetype": "text/x-python",
   "name": "python",
   "nbconvert_exporter": "python",
   "pygments_lexer": "ipython3",
   "version": "3.7.6"
  }
 },
 "nbformat": 4,
 "nbformat_minor": 4
}
