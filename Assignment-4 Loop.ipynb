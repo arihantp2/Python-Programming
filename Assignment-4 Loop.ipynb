{
 "cells": [
  {
   "cell_type": "markdown",
   "metadata": {},
   "source": [
    "# ASSIGNMENT-4 LOOP"
   ]
  },
  {
   "cell_type": "markdown",
   "metadata": {},
   "source": [
    "### 1. Write a python script to check whether a given number is prime or not. "
   ]
  },
  {
   "cell_type": "code",
   "execution_count": 1,
   "metadata": {},
   "outputs": [
    {
     "name": "stdout",
     "output_type": "stream",
     "text": [
      "Enter a number 17\n",
      "Number is prime\n"
     ]
    }
   ],
   "source": [
    "n=int(input(\"Enter a number \"))\n",
    "if n<=1 :\n",
    "    print(\"Not a prime\")\n",
    "else:\n",
    "    for i in range(2,n):\n",
    "        if n%i==0:\n",
    "            print(\"Not a prime\")          \n",
    "    else:\n",
    "        print(\"Number is prime\")"
   ]
  },
  {
   "cell_type": "markdown",
   "metadata": {},
   "source": [
    "### 2. Write a python script to print next prime number of a given number."
   ]
  },
  {
   "cell_type": "code",
   "execution_count": 2,
   "metadata": {},
   "outputs": [
    {
     "data": {
      "text/plain": [
       "101"
      ]
     },
     "execution_count": 2,
     "metadata": {},
     "output_type": "execute_result"
    }
   ],
   "source": [
    "def nextPrime(n):\n",
    "    while True:\n",
    "        n+=1\n",
    "        for i in range(2,n):\n",
    "            if n%i==0:\n",
    "                break\n",
    "        else:\n",
    "            return n\n",
    "        \n",
    "nextPrime(100)   #calling function for output\n",
    "    "
   ]
  },
  {
   "cell_type": "code",
   "execution_count": 3,
   "metadata": {},
   "outputs": [
    {
     "data": {
      "text/plain": [
       "59"
      ]
     },
     "execution_count": 3,
     "metadata": {},
     "output_type": "execute_result"
    }
   ],
   "source": [
    "#Simple way to find next prime number\n",
    "\n",
    "from sympy import nextprime\n",
    "nextprime(53)"
   ]
  },
  {
   "cell_type": "markdown",
   "metadata": {},
   "source": [
    "### 3. Write a python script to print first N prime number,Value of N is given by user."
   ]
  },
  {
   "cell_type": "code",
   "execution_count": 5,
   "metadata": {},
   "outputs": [
    {
     "name": "stdout",
     "output_type": "stream",
     "text": [
      "How many prime numbers you want to generate? 25\n",
      "[2, 3, 5, 7, 11, 13, 17, 19, 23, 29, 31, 37, 41, 43, 47, 53, 59, 61, 67, 71, 73, 79, 83, 89, 97]\n"
     ]
    }
   ],
   "source": [
    "def nextPrime(num):\n",
    "    while True:\n",
    "        num+=1\n",
    "        for i in range(2,num):\n",
    "            if num%i==0:\n",
    "                break\n",
    "        else :\n",
    "            return num\n",
    "        \n",
    "def primeProducer(N): #generator\n",
    "    num,count=1,1\n",
    "    while count<=N:\n",
    "        num=nextPrime(num)\n",
    "        yield num\n",
    "        count +=1\n",
    "        \n",
    "N=int(input(\"How many prime numbers you want to generate? \"))\n",
    "l=[x for x in primeProducer(N)]\n",
    "print(l)\n",
    "    "
   ]
  },
  {
   "cell_type": "markdown",
   "metadata": {},
   "source": [
    "### 4. Write a python script to print all prime numbers between two given numbers "
   ]
  },
  {
   "cell_type": "code",
   "execution_count": 4,
   "metadata": {},
   "outputs": [
    {
     "name": "stdout",
     "output_type": "stream",
     "text": [
      "Enter lower range 10\n",
      "Enter Upper range 20\n",
      "11 13 17 19 "
     ]
    }
   ],
   "source": [
    "a=int(input(\"Enter lower range \"))\n",
    "b=int(input(\"Enter Upper range \"))\n",
    "\n",
    "for num in range(a,b+1):\n",
    "    if num >1:\n",
    "        for i in range(2,num):\n",
    "            if num%i==0:\n",
    "                break\n",
    "        else:\n",
    "             print(num,end=' ')\n"
   ]
  },
  {
   "cell_type": "markdown",
   "metadata": {},
   "source": [
    "### 5. Write a python  script to print first N odd natural numbers in reverse order using range loop. "
   ]
  },
  {
   "cell_type": "code",
   "execution_count": 6,
   "metadata": {},
   "outputs": [
    {
     "name": "stdout",
     "output_type": "stream",
     "text": [
      "Enter a natural number 10\n",
      "19 17 15 13 11 9 7 5 3 1 "
     ]
    }
   ],
   "source": [
    "n=int(input(\"Enter a natural number \"))\n",
    "for i in range(1,1+n):\n",
    "    print(2*n-2*i+1,end=' ')"
   ]
  },
  {
   "cell_type": "code",
   "execution_count": 7,
   "metadata": {},
   "outputs": [
    {
     "name": "stdout",
     "output_type": "stream",
     "text": [
      "Enter a natural number 10\n",
      "19 17 15 13 11 9 7 5 3 1 "
     ]
    }
   ],
   "source": [
    "n=int(input(\"Enter a natural number \"))\n",
    "for x in range(2*n-1,0,-2):\n",
    "    print(x,end=' ')"
   ]
  },
  {
   "cell_type": "code",
   "execution_count": 8,
   "metadata": {},
   "outputs": [
    {
     "name": "stdout",
     "output_type": "stream",
     "text": [
      "19 17 15 13 11 9 7 5 3 1 "
     ]
    }
   ],
   "source": [
    "for x in range(19,0,-2):\n",
    "      print(x,end=' ')"
   ]
  },
  {
   "cell_type": "markdown",
   "metadata": {},
   "source": [
    "### 6. Write a python function in for script to print first N even natural numbers in reverse order using range loop."
   ]
  },
  {
   "cell_type": "code",
   "execution_count": 9,
   "metadata": {},
   "outputs": [
    {
     "name": "stdout",
     "output_type": "stream",
     "text": [
      "Enter a natural number 10\n",
      "20 18 16 14 12 10 8 6 4 2 "
     ]
    }
   ],
   "source": [
    "n=int(input(\"Enter a natural number \"))\n",
    "for x in range(2*n,0,-2):\n",
    "    print(x,end=' ')"
   ]
  },
  {
   "cell_type": "markdown",
   "metadata": {},
   "source": [
    "### 7. Write a python function in for  script to print all prime factors of a given number."
   ]
  },
  {
   "cell_type": "code",
   "execution_count": 11,
   "metadata": {},
   "outputs": [
    {
     "name": "stdout",
     "output_type": "stream",
     "text": [
      "Enter a number 1000\n",
      "2*2*2*5*5*5*"
     ]
    }
   ],
   "source": [
    "import math as m\n",
    "\n",
    "n=int(input(\"Enter a number \"))\n",
    "\n",
    "i=2\n",
    "sqrtn=m.sqrt(n)\n",
    "while i <= sqrtn:\n",
    "    if n%i ==0:\n",
    "        n=n/i\n",
    "        print(i,end='*')\n",
    "        \n",
    "    else:\n",
    "        i+=1\n",
    "        \n",
    "if n>2 :\n",
    "    print('%d' % n )"
   ]
  },
  {
   "cell_type": "markdown",
   "metadata": {},
   "source": [
    "### 8. Write a python script to calculate LCM of two numbers. "
   ]
  },
  {
   "cell_type": "code",
   "execution_count": 12,
   "metadata": {},
   "outputs": [
    {
     "name": "stdout",
     "output_type": "stream",
     "text": [
      "Enter first number 15\n",
      "Enter first number 20\n",
      "LCM of 15 and 20 is 60.0\n"
     ]
    }
   ],
   "source": [
    "a=int(input(\"Enter first number \"))\n",
    "b=int(input(\"Enter first number \"))\n",
    "def gcd(a,b):\n",
    "    if a == 0:\n",
    "        return b\n",
    "    return gcd(b % a, a)\n",
    "\n",
    "def lcm(a,b):\n",
    "    return (a / gcd(a,b))* b\n",
    "\n",
    "print('LCM of', a, 'and', b, 'is', lcm(a, b))"
   ]
  },
  {
   "cell_type": "markdown",
   "metadata": {},
   "source": [
    "### 9.Write a python script to check whether two given numbers are co-prime or not. "
   ]
  },
  {
   "cell_type": "code",
   "execution_count": 13,
   "metadata": {},
   "outputs": [
    {
     "name": "stdout",
     "output_type": "stream",
     "text": [
      "True\n",
      "True\n",
      "False\n",
      "False\n"
     ]
    }
   ],
   "source": [
    "def gcd(p,q):\n",
    "\n",
    "    while q != 0:\n",
    "        p, q = q, p%q\n",
    "    return p\n",
    "def is_coprime(x, y):\n",
    "    return gcd(x, y) == 1\n",
    "print(is_coprime(17, 13))\n",
    "print(is_coprime(17, 21))\n",
    "print(is_coprime(15, 21))\n",
    "print(is_coprime(25, 45))"
   ]
  },
  {
   "cell_type": "markdown",
   "metadata": {},
   "source": [
    "### 10. Write a python script to calculate HCF of two numbers"
   ]
  },
  {
   "cell_type": "code",
   "execution_count": 14,
   "metadata": {},
   "outputs": [
    {
     "name": "stdout",
     "output_type": "stream",
     "text": [
      "The HCF is 100\n"
     ]
    }
   ],
   "source": [
    "def compute_hcf(x, y):\n",
    "    while(y):\n",
    "        x, y = y, x % y\n",
    "    return x\n",
    "\n",
    "hcf = compute_hcf(300, 400)\n",
    "print(\"The HCF is\", hcf)"
   ]
  },
  {
   "cell_type": "markdown",
   "metadata": {},
   "source": [
    "### 11. Write a python script to calculate factorial"
   ]
  },
  {
   "cell_type": "code",
   "execution_count": 16,
   "metadata": {},
   "outputs": [
    {
     "name": "stdout",
     "output_type": "stream",
     "text": [
      "Enter a number 10\n"
     ]
    },
    {
     "data": {
      "text/plain": [
       "3628800"
      ]
     },
     "execution_count": 16,
     "metadata": {},
     "output_type": "execute_result"
    }
   ],
   "source": [
    "def factorial(n):\n",
    "    fact = 1\n",
    "    for i in range(1,n+1):\n",
    "        fact *= i\n",
    "    return fact\n",
    "    \n",
    "factorial(int(input(\"Enter a number \")))\n"
   ]
  },
  {
   "cell_type": "code",
   "execution_count": null,
   "metadata": {},
   "outputs": [],
   "source": []
  }
 ],
 "metadata": {
  "kernelspec": {
   "display_name": "Python 3",
   "language": "python",
   "name": "python3"
  },
  "language_info": {
   "codemirror_mode": {
    "name": "ipython",
    "version": 3
   },
   "file_extension": ".py",
   "mimetype": "text/x-python",
   "name": "python",
   "nbconvert_exporter": "python",
   "pygments_lexer": "ipython3",
   "version": "3.7.6"
  }
 },
 "nbformat": 4,
 "nbformat_minor": 4
}
